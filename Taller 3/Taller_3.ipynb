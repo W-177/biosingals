{
 "cells": [
  {
   "cell_type": "code",
   "execution_count": null,
   "id": "7ab185f4",
   "metadata": {},
   "outputs": [],
   "source": []
  },
  {
   "cell_type": "code",
   "execution_count": 1,
   "id": "44a0936d",
   "metadata": {},
   "outputs": [],
   "source": [
    "#Líneas a incluir en el documento .tex para eliminar la primera hoja (innecesaria porque el título en formato aparece en la segunda)\n",
    "#\\usepackage{atbegshi}\n",
    "#\\AtBeginDocument{\\AtBeginShipoutNext{\\AtBeginShipoutDiscard}}"
   ]
  },
  {
   "cell_type": "markdown",
   "id": "0295edf9",
   "metadata": {},
   "source": [
    "\\let\\firstpage\\relax\n",
    "\n",
    "\\makeatletter\n",
    "\\begin{center}\n",
    "\n",
    "\\begin{titlepage}\n",
    "\n",
    "{\\includegraphics[width=0.2\\textwidth]{usblogo.png}\\par} \n",
    "\t{\\bfseries\\scshape\\LARGE Universidad Simón Bolívar \\par}\n",
    "\t{\\scshape\\large Dpto. de Tecnología y Electrónica \\par}\n",
    "\t{\\scshape\\large EC7817 - Tópico especial II - Inteligencia Artificial en Biomédica \\par}\n",
    "    \\vspace{0.2cm}\n",
    "\n",
    "{\\bfseries\\scshape\\LARGE \\@title \\par}\n",
    "\n",
    "\\vspace{0.2cm}\n",
    "Autor: \\@author\n",
    "\n",
    "Profesor: Miguel Altuve\n",
    "\n",
    "\\vspace{0.2cm}\n",
    "\n",
    "\\@date\n",
    "\n",
    "\\let\\newpage\\relax\t\n",
    "\n",
    "\\end{titlepage}\n",
    "\n",
    "\\end{center}\n",
    "\n",
    "\\makeatother\n"
   ]
  },
  {
   "cell_type": "markdown",
   "id": "5c3052c0",
   "metadata": {},
   "source": [
    "\\vspace{1cm} \\section*{\\scshape\\Large Introducción}"
   ]
  },
  {
   "cell_type": "markdown",
   "id": "248a1da6",
   "metadata": {},
   "source": [
    "Utilice el conjunto de datos flor Iris (Iris flower) disponible en https://archive.ics.uci.edu/ml/datasets/iris para estudiar clasificación multi-clase usando redes neuronales artificiales. Esta es quizás la base de datos más conocida que se encuentra en la literatura de aprendizaje automático.\n",
    "La base de datos contiene:\n",
    "\\begin{itemize}\n",
    "    \\item[$\\bullet$] 150 instancias, 50 instancias de cada tipo de flor (setosa, virginica y versicolor).\n",
    "    \\item[$\\bullet$] 4 atributos: largo de sépalo (cm), ancho de sépalo (cm), largo de pétalo (cm) y ancho de pétalo (cm).\n",
    "    \\item[$\\bullet$] 3 clases: setosa, virginica y versicolor. La clase setosa es linealmente separable de las otras dos, pero las clases virginica y versicolor no son linealmente separables entre sí.\n",
    "\\end{itemize}\n",
    "El objetivo del taller es utilizar redes neuronales artificiales para asignar cada observación al tipo apropiado de flor, a partir de un conjunto de atributos (predictores).\n",
    "Pueden leer este artículo para conocer un poco más sobre la base de datos: Fisher, R. A. (1936). The use of multiple measurements in taxonomic problems. Annals of human genetics, 7(2), 179-188.\n",
    "(4 puntos) Estadísticas descriptivas de los datos\n",
    "\\begin{itemize}\n",
    "    \\item[$\\bullet$] Describa estadísticamente el conjunto de observaciones.\n",
    "    \\item[$\\bullet$] Obtenga los histogramas de las variables de entrada y analice si las observaciones provienen de una población con una distribución normal (Gaussiana).\n",
    "    \\item[$\\bullet$] Obtenga los diagramas de dispersión por grupo.\n",
    "    \\item[$\\bullet$] Examine la dependencia entre las variables de entrada a partir del coeficiente de correlación de Pearson.\n",
    "\\end{itemize}\n",
    "(4 puntos) Redes neuronales artificiales (RNA)\n",
    "A continuación se describen una serie de tareas. Estas tareas no son pasos a seguir, por lo tanto, no son secuenciales:\n",
    "\\begin{itemize}\n",
    "    \\item[$\\bullet$] Obtenga un modelo de RNA que permita clasificar la variable de salida (tipo de flor) a partir de los cuatro atributos iniciales.\n",
    "    \\item[$\\bullet$] Obtenga un modelo de RNA que permita clasificar la variable de salida (tipo de flor) a partir de ocho atributos: los cuatro iniciales y el cuadrado de cada atributo. \n",
    "    \\item[$\\bullet$] Realice una validación cruzada de 5 iteraciones (5-fold cross-validation). Reporte la matriz de contingencia de cada iteración y los valores de F1MACRO de cada iteración y su promedio (valor final), tanto en el entrenamiento como en la prueba.\n",
    "    \\item[$\\bullet$] Concluya sobre el taller.\n",
    "\\end{itemize}\n",
    "(2 punto) Evolución de las redes neuronales artificiales\n",
    "\\begin{itemize}\n",
    "    \\item[$\\bullet$] Escriba sobre el proceso de evolución de las redes neuronales artificiales, desde su inicio hasta nuestros días. Comente sobre los distintos tipos de redes que se han creado y mencione algunos ejemplos exitosos en este proceso evolutivo. Max 2 páginas.\n",
    "\\end{itemize}\n",
    "(1 Extra) Redes neuronales artificiales para regresión\n",
    "\\begin{itemize}\n",
    "    \\item[$\\bullet$] Utilice el conjunto de datos oreja de mar (Abalone).\n",
    "    \\item[$\\bullet$] Divida la base de datos en 50%, seleccionando los datos de manera aleatoria.  \n",
    "    \\item[$\\bullet$] Utilice un modelo de regresión lineal y una red neuronal artificial para predecir la edad de los abalones.\n",
    "    \\item[$\\bullet$] Entrene sobre el 50% y pruebe sobre el 50% restante (no use validación cruzada).\n",
    "    \\item[$\\bullet$] Utilice los mismos atributos para cada modelo: regresión lineal y RNA.\n",
    "    \\item[$\\bullet$] Reporte el valor RSS, tanto en el entrenamiento como en la prueba.\n",
    "    \\item[$\\bullet$] ¿Cuál modelo predice mejor la edad del abalón? Explique\n",
    "\\end{itemize}\n",
    "(1 Extra) Redes neuronales artificiales para clasificación binaria\n",
    "\\begin{itemize}\n",
    "    \\item[$\\bullet$] Utilice el conjunto de datos cáncer de mama (breast cancer).\n",
    "    \\item[$\\bullet$] Divida la base de datos en 50%, seleccionando los datos de manera aleatoria. \n",
    "    \\item[$\\bullet$] Utilice un modelo de regresión logística y una red neuronal artificial para clasificar una observación como cáncer benigno o maligno.\n",
    "    \\item[$\\bullet$] Entrene sobre el 50% y pruebe sobre el 50% restante (no use validación cruzada).\n",
    "    \\item[$\\bullet$] Utilice los mismos atributos para cada modelo: regresión logística y RNA.\n",
    "    \\item[$\\bullet$] Reporte el valor F1, tanto en el entrenamiento como en la prueba.\n",
    "    \\item[$\\bullet$] ¿Cuál modelo clasifica mejor el cáncer? Explique\n",
    "\\end{itemize}\n"
   ]
  },
  {
   "cell_type": "code",
   "execution_count": 337,
   "id": "fdd5f09d",
   "metadata": {},
   "outputs": [],
   "source": [
    "\n",
    "# Se instancian las bibliotecas a implementar\n",
    "\n",
    "import numpy as np\n",
    "#import csv\n",
    "#import pandas as pd\n",
    "import matplotlib.pyplot as plt\n",
    "import matplotlib.cbook as cbook\n",
    "#import statistics as stats\n",
    "\n",
    "import scipy\n",
    "from scipy import stats\n",
    "#from scipy.stats import boxcox\n",
    "#from scipy.special import inv_boxcox\n",
    "\n",
    "import sklearn\n",
    "import sklearn.model_selection as sklms\n",
    "import sklearn.linear_model as skllm\n",
    "import sklearn.metrics as sklmt\n",
    "import sklearn.neural_network as sklnn\n",
    "#from sklearn import cross_validation\n",
    "#import sklearn.cross_validation as sklcv \n",
    "#from sklearn.neural_network import MLPClassifier\n",
    "#from sklearn.model_selection import train_test_split\n",
    "\n",
    "from prettytable import PrettyTable\n",
    "\n",
    "#format of print for numpy float\n",
    "np.set_printoptions(precision = 5, formatter = {'float_kind': lambda x: \"{0:0.5f}\".format(x)}, threshold = 40, edgeitems = 20)\n"
   ]
  },
  {
   "cell_type": "code",
   "execution_count": 3,
   "id": "c15640c6",
   "metadata": {},
   "outputs": [
    {
     "data": {
      "text/html": [
       "\n",
       "<style>\n",
       ".output_png {\n",
       "    display: table-cell;\n",
       "    text-align: center;\n",
       "    vertical-align: middle;\n",
       "}\n",
       "</style>\n"
      ],
      "text/plain": [
       "<IPython.core.display.HTML object>"
      ]
     },
     "execution_count": 3,
     "metadata": {},
     "output_type": "execute_result"
    }
   ],
   "source": [
    "\n",
    "# Configuration to display center plots\n",
    "\n",
    "from IPython.core.display import HTML\n",
    "\n",
    "HTML(\"\"\"\n",
    "<style>\n",
    ".output_png {\n",
    "    display: table-cell;\n",
    "    text-align: center;\n",
    "    vertical-align: middle;\n",
    "}\n",
    "</style>\n",
    "\"\"\")\n"
   ]
  },
  {
   "cell_type": "markdown",
   "id": "9acf4e86",
   "metadata": {},
   "source": [
    "\n",
    "\\vspace{1cm}\n",
    "\\subsection*{\\scshape\\large Funciones implementadas a lo largo del código}\n"
   ]
  },
  {
   "cell_type": "code",
   "execution_count": 4,
   "id": "f4ec2059",
   "metadata": {},
   "outputs": [],
   "source": [
    "\n",
    "# presentar datos de la data\n",
    "\n",
    "def printDataInfo(data, name):\n",
    "    print('Tamaño de la data ' + name)\n",
    "    print('Cantidad de muestras: ', np.size(data,0))\n",
    "    print('Número de Atriutos de cada muestra: ', np.size(data,1))\n",
    "\n",
    "\n",
    "#endfunction\n"
   ]
  },
  {
   "cell_type": "code",
   "execution_count": 5,
   "id": "fafd8fb1",
   "metadata": {},
   "outputs": [],
   "source": [
    "\n",
    "# Cálculo de los Parámetros estadísticos de interés\n",
    "\n",
    "def StatsVars( data, title ):\n",
    "    \n",
    "\n",
    "    # Inicialización\n",
    "\n",
    "    data_Mean = np.zeros((np.size(data,1),1))       #media\n",
    "    data_Median = np.zeros((np.size(data,1),1))     #mediana\n",
    "    data_Mode = np.zeros((np.size(data,1),1))       #moda\n",
    "    data_Max = np.zeros((np.size(data,1),1))        #máximo\n",
    "    data_Min = np.zeros((np.size(data,1),1))        #mínimo\n",
    "    data_Range = np.zeros((np.size(data,1),1))      #rango\n",
    "    data_Desv = np.zeros((np.size(data,1),1))       #desviación\n",
    "    data_Skew = np.zeros((np.size(data,1),1))       #asimetría\n",
    "    data_Kurt = np.zeros((np.size(data,1),1))       #curtosis\n",
    "    \n",
    "\n",
    "    # cálculo de los parámetros estadísticos\n",
    "\n",
    "    data_Mean = np.mean(data, axis = 0)\n",
    "    data_Median = np.median(data, axis = 0)\n",
    "    data_Mode = stats.mode(data, axis = 0)\n",
    "    data_Max = np.max(data, axis = 0)\n",
    "    data_Min = np.min(data, axis = 0)\n",
    "    data_Range = data_Max - data_Min\n",
    "    data_Desv = np.std(data, axis = 0)\n",
    "    data_Skew = stats.skew(data, axis = 0, bias = 0)\n",
    "    data_Kurt = stats.kurtosis(data, axis = 0, bias = 0)\n",
    "    \n",
    "    # Se inserta el formato de presentación de los datos\n",
    "    np.set_printoptions(formatter={'float': lambda x: \"{:.5e}\".format(x)}, suppress= True)\n",
    "    \n",
    "    # Presentación de los valores de los parámetros estadísticos estudiados\n",
    "\n",
    "    print('la media de los atributos para la ' + title + ' es:');\n",
    "    print(data_Mean);\n",
    "    print();\n",
    "    print('la mediana de los atributos para la ' + title + ' es:');\n",
    "    print(data_Median);\n",
    "    print();\n",
    "    print('la moda de los atributos para la ' + title + ' es:');\n",
    "    print(data_Mode);\n",
    "    print();\n",
    "    print('el valor máximo de los atributos para la ' + title + ' es:');\n",
    "    print(data_Max);\n",
    "    print();\n",
    "    print('el valor mínimo de los atributos para la ' + title + ' es:');\n",
    "    print(data_Min);\n",
    "    print();\n",
    "    print('lel rango de los atributos para la ' + title + ' es:');\n",
    "    print(data_Range);\n",
    "    print();\n",
    "    print('la desviación estándar de los atributos para la ' + title + ' es:');\n",
    "    print(data_Desv);\n",
    "    print();\n",
    "    print('la asimetría de los atributos para la ' + title + ' es:');\n",
    "    print(data_Skew);\n",
    "    print();\n",
    "    print('el curtosis de los atributos para la ' + title + ' es:');\n",
    "    print(data_Kurt);\n",
    "    print();\n",
    "\n",
    "    \n",
    "    # retorna las variables estadísticas de interés\n",
    "    \n",
    "    return data_Mean, data_Median, data_Mode, data_Max, data_Min, data_Range, data_Desv, data_Skew, data_Kurt;\n",
    "\n",
    "#endfunction\n",
    "    "
   ]
  },
  {
   "cell_type": "code",
   "execution_count": 6,
   "id": "9c5b43d6",
   "metadata": {},
   "outputs": [],
   "source": [
    "\n",
    "# Plot de los histogramas de cada atributo por separado\n",
    "\n",
    "def histogrmAllAtriSep( data, varnames, title ):\n",
    "\n",
    "    # Se muestran los histogramas\n",
    "\n",
    "    for i in range( np.size(data,1) ):\n",
    "\n",
    "        # Atributo i\n",
    "        #print( title + \" - Atributo \" + str(i+1)+\": \" + varnames[i] + ' de la célula '+ str(int(np.floor(i/10)) + 1) )\n",
    "        fig = plt.figure(figsize =(10, 2))\n",
    "        \n",
    "        #gráficos de histogramas\n",
    "        plt.hist( data[:,i] , bins = 'auto' , color = 'm');\n",
    "        plt.title( title + '\\nHistograma del atributo '+ str(i+1) + ': ' + varnames[i] + ' de la célula '+ str(int(np.floor(i/10)) + 1) );\n",
    "\n",
    "        # Add x, y gridlines\n",
    "        plt.grid(b = True, color ='grey', linestyle ='-.', linewidth = 0.5, alpha = 0.35)\n",
    "        \n",
    "        # y axis configuration\n",
    "        plt.yticks( np.arange(0, np.max (plt.yticks()[0]), 10 ) )\n",
    "        \n",
    "        # plot\n",
    "        plt.show()\n",
    "\n",
    "    #endfor\n",
    "    \n",
    "#endfunction\n"
   ]
  },
  {
   "cell_type": "code",
   "execution_count": 7,
   "id": "2bf2c13f",
   "metadata": {},
   "outputs": [],
   "source": [
    "\n",
    "# Scatter Plot de los atributos respecto a un atributo (atributo de salida)\n",
    "\n",
    "def ScatterPlotAllto1Sep( data, varnames, title ):\n",
    "\n",
    "    # Scatter plot de los atributos de entrada vs el atributo de salida\n",
    "\n",
    "    for i in range( np.size(data[:,1:],1) ):\n",
    "        \n",
    "        # inicializa la figura\n",
    "        fig = plt.figure(figsize = (10, 1.25))\n",
    "        \n",
    "        # scatter plot\n",
    "        plt.scatter( data[:, i+1] , data[:, 0] , color = 'g')\n",
    "        \n",
    "        # title & labels\n",
    "        plt.title( title + \"\\n\" + varnames[0] + \" VS Atributo \" + str(i+1)+\": \" + varnames[i+1] + ' de la célula '+ str(int(np.floor(i/10)) + 1))\n",
    "        plt.xlabel(\"Atributo \" + str(i+1)+\": \" + varnames[i+1])\n",
    "        plt.ylabel('Diagnóstico')\n",
    "        \n",
    "        # plot\n",
    "        plt.show()\n",
    "    \n",
    "    #endfor\n",
    "    \n",
    "#endfunction\n"
   ]
  },
  {
   "cell_type": "code",
   "execution_count": null,
   "id": "24947cfb",
   "metadata": {},
   "outputs": [],
   "source": []
  },
  {
   "cell_type": "code",
   "execution_count": 8,
   "id": "f5a92347",
   "metadata": {},
   "outputs": [],
   "source": [
    "\n",
    "# Plot para una sola correlación de las datos (los atributos de entrada respecto al atributo de salida.)\n",
    "\n",
    "def barPlotSimp( corr_data , varnames , title ):\n",
    "    \n",
    "    # Bar Plot de la correlación de los atributos\n",
    "\n",
    "    #Figure size\n",
    "    fig, ax = plt.subplots(figsize = (12, 4))\n",
    "\n",
    "    # Bar Plot\n",
    "    ax.bar(list(varnames[1:]), list(corr_data), width = 0.75, color='c');\n",
    "\n",
    "    # Remove x, y Ticks\n",
    "    ax.xaxis.set_ticks_position('none')\n",
    "    ax.yaxis.set_ticks_position('none')\n",
    "\n",
    "    # Add padding between axes and labels\n",
    "    ax.xaxis.set_tick_params(pad = 5)\n",
    "    ax.yaxis.set_tick_params(pad = 10)\n",
    "\n",
    "    # Add x, y gridlines\n",
    "    ax.grid(b = True, color ='grey', linestyle ='-.', linewidth = 0.5, alpha = 0.35)\n",
    "\n",
    "    # Add annotation to bars\n",
    "    j = 0\n",
    "    for i in ax.patches:\n",
    "        plt.text(i.get_x() + 0.2, i.get_y() + np.round( np.max( corr_data ), 1 ) + 0.1, str( np.round( corr_data[j] , 5 ) ), fontsize = 10, fontweight ='bold', color ='black');\n",
    "        j = j + 1\n",
    "\n",
    "    # Plot title\n",
    "    ax.set_title( title  + ' - Nivel de Correlación entre los atributos con el atributo ' + varnames[0])\n",
    "\n",
    "    # axis labels\n",
    "    #plt.xticks(np.arange( np.size(varnames[1:11],0) ), varnames[1:11])\n",
    "    plt.xticks( varnames[1:] )\n",
    "\n",
    "    # y axis configuration\n",
    "    ax.set_yticks( np.arange( np.round(np.min(corr_data)-0.05,1), 1.25, 0.1 ) )\n",
    "    ax.set_ylabel('Correlación con el atributo '+varnames[0])\n",
    "    ax.set_xlabel('Atributos de entrada')\n",
    "\n",
    "    #fig.text(0.9, 0.15, 'Jeeteshgavande30', fontsize = 12, color ='grey', ha ='right', va ='bottom', alpha = 0.7)\n",
    "\n",
    "    # plot\n",
    "    plt.show()\n",
    "\n",
    "#endfunction\n"
   ]
  },
  {
   "cell_type": "code",
   "execution_count": 9,
   "id": "4b2dbe02",
   "metadata": {},
   "outputs": [],
   "source": [
    "\n",
    "# Plot para una sola correlación de las datos (los atributos de entrada respecto al atributo de salida.)\n",
    "\n",
    "def barPlot_1Corr( corr_data , varnames , title ):\n",
    "    \n",
    "    # Bar Plot de la correlación de los atributos\n",
    "\n",
    "    #Figure size\n",
    "    fig, ax = plt.subplots(figsize = (16, 5))\n",
    "\n",
    "    barWidth = 0.3\n",
    "\n",
    "    # Set position of bar on X axis\n",
    "    br1 = np.arange(np.size(corr_data[0:10]))\n",
    "    br2 = br1 +  barWidth * np.ones(np.size(br1,0))\n",
    "    br3 = br2 +  barWidth * np.ones(np.size(br1,0))\n",
    "\n",
    "    # Bar Plot\n",
    "    ax.bar(br1, list(corr_data[0:10] ), width =  barWidth, color='red',   label ='Célula 1');\n",
    "    ax.bar(br2, list(corr_data[10:20]), width =  barWidth, color='green', label ='Célula 2');\n",
    "    ax.bar(br3, list(corr_data[20:30]), width =  barWidth, color='blue',  label ='Célula 3');\n",
    "\n",
    "    # Remove x, y Ticks\n",
    "    ax.xaxis.set_ticks_position('none')\n",
    "    ax.yaxis.set_ticks_position('none')\n",
    "\n",
    "    # Add padding between axes and labels\n",
    "    ax.xaxis.set_tick_params(pad = 1)\n",
    "    ax.yaxis.set_tick_params(pad = 1)\n",
    "\n",
    "    # Add x, y gridlines\n",
    "    ax.grid(b = True, color ='grey', linestyle ='-.', linewidth = 0.5, alpha = 0.35)\n",
    "\n",
    "    # Add annotation to bars\n",
    "    #j = 0\n",
    "    #for i in ax.patches:\n",
    "    #    plt.text(i.get_x() + 0.0, i.get_y() + np.round( np.max( corr_file_wdbc2[1:,1] ), 1 ) + 0.06, str( np.round( corr_file_wdbc2[j,1] , 1) ), fontsize = 10, fontweight ='bold', color ='black');\n",
    "    #    j = j + 1\n",
    "\n",
    "    # Plot title\n",
    "    ax.set_title( title  + ' - Nivel de Correlación entre los atributos con el atributo ' + varnames[0])\n",
    "\n",
    "    # axis labels\n",
    "    #plt.xticks(np.arange( np.size(varnames[1:11],0) ), varnames[1:11])\n",
    "    plt.xticks( br2, varnames[1:11] )\n",
    "\n",
    "    # y axis configuration\n",
    "    #ax.set_ylim( [-0.4, 1.1] )\n",
    "    ax.set_yticks( np.arange(-0.4, 1.1, 0.1) )\n",
    "    ax.set_ylabel('Correlación con el atributo '+varnames[0])\n",
    "    ax.set_xlabel('Atributos de entrada')\n",
    "\n",
    "    #fig.text(0.9, 0.15, 'Jeeteshgavande30', fontsize = 12, color ='grey', ha ='right', va ='bottom', alpha = 0.7)\n",
    "\n",
    "    # plot\n",
    "    plt.legend()\n",
    "    plt.show()\n",
    "\n",
    "#endfunction\n"
   ]
  },
  {
   "cell_type": "code",
   "execution_count": 10,
   "id": "fce88345",
   "metadata": {},
   "outputs": [],
   "source": [
    "\n",
    "# Plot para una sola correlación de las datos (los atributos de entrada respecto al atributo de salida.)\n",
    "\n",
    "def barPlot_1Corr_forAll( corr_data , varnames , title, j, i, barWidth, br1, br2, br3 ):\n",
    "    \n",
    "    # Bar Plot de la correlación de los atributos\n",
    "\n",
    "    #Figure size\n",
    "    fig, ax = plt.subplots(figsize = (16, 2.85))\n",
    "\n",
    "    #barWidth = 0.3\n",
    "\n",
    "    # Set position of bar on X axis\n",
    "    #br1 = np.arange(np.size(corr_data[1:11]))\n",
    "    #br2 = br1 +  barWidth * np.ones(np.size(br1,0))\n",
    "    #br3 = br2 +  barWidth * np.ones(np.size(br1,0))\n",
    "\n",
    "    # Bar Plot\n",
    "    ax.bar(0,   corr_data[0]          , width =  barWidth*2, color='magenta', label ='Diagnóstico');\n",
    "    ax.bar(br1, list(corr_data[1:11] ), width =  barWidth  , color='red',     label ='Célula 1');\n",
    "    ax.bar(br2, list(corr_data[11:21]), width =  barWidth  , color='green',   label ='Célula 2');\n",
    "    ax.bar(br3, list(corr_data[21:31]), width =  barWidth  , color='blue',    label ='Célula 3');\n",
    "\n",
    "    # Remove x, y Ticks\n",
    "    ax.xaxis.set_ticks_position('none')\n",
    "    ax.yaxis.set_ticks_position('none')\n",
    "\n",
    "    # Add padding between axes and labels\n",
    "    ax.xaxis.set_tick_params(pad = 1)\n",
    "    ax.yaxis.set_tick_params(pad = 1)\n",
    "\n",
    "    # Add x, y gridlines\n",
    "    ax.grid(b = True, color ='grey', linestyle ='-.', linewidth = 0.5, alpha = 0.35)\n",
    "\n",
    "    # Add annotation to bars\n",
    "    #j = 0\n",
    "    #for i in ax.patches:\n",
    "    #    plt.text(i.get_x() + 0.0, i.get_y() + np.round( np.max( corr_file_wdbc2[1:,1] ), 1 ) + 0.06, str( np.round( corr_file_wdbc2[j,1] , 1) ), fontsize = 10, fontweight ='bold', color ='black');\n",
    "    #    j = j + 1\n",
    "\n",
    "    # Plot title\n",
    "    ax.set_title( title  + '\\nNivel de Correlación entre los atributos con el atributo ' + varnames[j] )\n",
    "\n",
    "    # axis labels\n",
    "    plt.xticks( np.hstack( (0, br2) ), varnames[0:11] )\n",
    "\n",
    "    # y axis configuration\n",
    "    #ax.set_ylim( [-0.5, 1.1] )\n",
    "    ax.set_yticks( np.arange(-0.5, 1.1, 0.1) )\n",
    "    ax.set_ylabel('Correlación con el atributo '+varnames[j])\n",
    "    ax.set_xlabel('Atributos de entrada')\n",
    "\n",
    "    #fig.text(0.9, 0.15, 'Jeeteshgavande30', fontsize = 12, color ='grey', ha ='right', va ='bottom', alpha = 0.7)\n",
    "\n",
    "    # plot\n",
    "    plt.legend()\n",
    "    plt.show()\n",
    "\n",
    "#endfunction\n",
    "\n",
    "\n",
    "def barPlot_AllCorr( corr_data , varnames , title ):\n",
    "\n",
    "    barWidth = 0.3\n",
    "\n",
    "    # Set position of bar on X axis\n",
    "    br1 = np.arange(np.size(corr_data[1:11,0],0)) + 1\n",
    "    br2 = br1 +  barWidth * np.ones(np.size(br1,0))\n",
    "    br3 = br2 +  barWidth * np.ones(np.size(br1,0))\n",
    "    \n",
    "    for i in range( np.size(corr_data,1) ):\n",
    "        \n",
    "        # Se define la posición del atributo actual\n",
    "        aux = np.copy(corr_data[:,i]) \n",
    "        j = np.where( aux == 1.0 )[0][0]\n",
    "        #j = np.sum( (aux == 1.0) * np.arange( np.size(aux) ) )   # cálculo manual del índice\n",
    "        \n",
    "        # Se genera el plot de las correlaciones respecto al i-ésimo atributo\n",
    "        barPlot_1Corr_forAll( corr_data[:,i], varnames, title, j, i, barWidth, br1, br2, br3 )\n",
    "        \n",
    "    #endfor\n",
    "\n",
    "#endfunction\n"
   ]
  },
  {
   "cell_type": "code",
   "execution_count": 11,
   "id": "69f68a18",
   "metadata": {},
   "outputs": [],
   "source": [
    "\n",
    "def IQRparamCalc( data ):\n",
    "\n",
    "    # Obtención de variables de IQR\n",
    "\n",
    "    dataQ1 = np.percentile(data, 25, axis = 0)\n",
    "    dataQ2 = np.percentile(data, 50, axis = 0)\n",
    "    dataQ3 = np.percentile(data, 75, axis = 0)\n",
    "\n",
    "    dataIQR = stats.iqr(data, axis = 0)\n",
    "    \n",
    "\n",
    "    # Se inserta el formato de presentación de los datos\n",
    "    np.set_printoptions(formatter={'float': lambda x: \"{:.5e}\".format(x)}, suppress= True)\n",
    "    \n",
    "    #Presentación de los parámetros IQR\n",
    "\n",
    "    print('Q1 de los atributos es:');\n",
    "    print(dataQ1);\n",
    "    print();\n",
    "    print('Q2 de los atributos es:');\n",
    "    print(dataQ2);\n",
    "    print();\n",
    "    print('Q3 de los atributos es:');\n",
    "    print(dataQ3);\n",
    "    print();\n",
    "    print('IQR de los atributos es:');\n",
    "    print(dataIQR);\n",
    "    print();\n",
    "\n",
    "    return dataQ1, dataQ2, dataQ3, dataIQR\n",
    "\n",
    "#endfunction\n"
   ]
  },
  {
   "cell_type": "code",
   "execution_count": 12,
   "id": "b42ff41d",
   "metadata": {},
   "outputs": [],
   "source": [
    "\n",
    "def AtipValueRemv( data ):\n",
    "\n",
    "    # Obtención de variables de IQR\n",
    "\n",
    "    dataQ1 = np.percentile(data, 25, axis = 0)\n",
    "    #dataQ2 = np.percentile(data, 50, axis = 0)\n",
    "    dataQ3 = np.percentile(data, 75, axis = 0)\n",
    "\n",
    "    dataIQR = stats.iqr(data, axis = 0)\n",
    "\n",
    "\n",
    "    # Detector de valores atípicos por debajo del límite inferior\n",
    "    aux1 = data < ( dataQ1 - 1.5 * dataIQR ) * np.ones( (np.size(data,0),np.size(data,1)) )\n",
    "    aux1 = np.sum(aux1, axis = 1)\n",
    "\n",
    " \n",
    "    # Detector de valores atípicos por encima del límite supeior\n",
    "    aux2 = data > ( dataQ3 + 1.5 * dataIQR ) * np.ones( (np.size(data,0),np.size(data,1)) )\n",
    "    aux2 = np.sum(aux2, axis = 1)\n",
    "\n",
    "\n",
    "    # Extracción de las muestras con valores atípicos\n",
    "    return np.copy(data[ (aux1 == 0) & (aux2 == 0), :])\n",
    "\n",
    "#endfunction\n"
   ]
  },
  {
   "cell_type": "code",
   "execution_count": 212,
   "id": "07a3d833",
   "metadata": {},
   "outputs": [],
   "source": [
    "\n",
    "# BoxPlot de todos los atributos en una misma figura\n",
    "\n",
    "def BoxPlotAllin1( data, varnames, title ):\n",
    "\n",
    "\n",
    "    # Se inicializan los diagrama de bloques\n",
    "    stats2 = cbook.boxplot_stats(data, labels = varnames)\n",
    "\n",
    "    #fig, ax = plt.subplots(1, 1)\n",
    "    fig = plt.figure(figsize =( 12, np.size( data,1 ) ))\n",
    "    ax = fig.add_subplot(111)\n",
    "\n",
    "    # Plot boxplots from our computed statistics\n",
    "    bp = ax.bxp([stats2[i] for i in range( np.size(data,1) )], positions=range( np.size(data,1) ), patch_artist = True, vert = 0, shownotches ='True');\n",
    "\n",
    "\n",
    "    colors = ['#0000FF', '#00FF00', '#FF0000', '#FF00FF', '#00FFFF', '#FFFF00', '#F0F0F0',\n",
    "              '#0000FF', '#00FF00', '#FF0000', '#FF00FF', '#00FFFF', '#FFFF00', '#F0F0F0',\n",
    "              '#0000FF', '#00FF00', '#FF0000', '#FF00FF', '#00FFFF', '#FFFF00', '#F0F0F0',\n",
    "              '#0000FF', '#00FF00', '#FF0000', '#FF00FF', '#00FFFF', '#FFFF00', '#F0F0F0',\n",
    "              '#0000FF', '#00FF00']\n",
    "\n",
    "    \n",
    "    for patch, color in zip(bp['boxes'], colors):\n",
    "        patch.set_facecolor(color)\n",
    "        \n",
    "    #endfor\n",
    "\n",
    "    # changing color and linewidth of\n",
    "    # whiskers\n",
    "    for whisker in bp['whiskers']:\n",
    "        whisker.set(color ='#8B008B',\n",
    "                    linewidth = 2,\n",
    "                    linestyle =\":\")\n",
    "    #endfor\n",
    "\n",
    "    # changing color and linewidth of\n",
    "    # caps\n",
    "    for cap in bp['caps']:\n",
    "        cap.set(color ='#8B008B',\n",
    "                linewidth = 1)\n",
    "    #endfor\n",
    "\n",
    "    # changing color and linewidth of\n",
    "    # medians\n",
    "    for median in bp['medians']:\n",
    "        median.set(color ='#777777', \n",
    "                   linewidth = 1)\n",
    "    #endfor\n",
    "\n",
    "    # changing style of fliers\n",
    "    for flier in bp['fliers']:\n",
    "        flier.set(marker ='D',\n",
    "                  color ='#e7298a',\n",
    "                  alpha = 0.25)\n",
    "    #endfor\n",
    "    \n",
    "    # Title\n",
    "    ax.set_title(title + ' - Diagrama de Cajas (IQR)')\n",
    "\n",
    "#endfunction\n",
    "\n"
   ]
  },
  {
   "cell_type": "code",
   "execution_count": 219,
   "id": "cbc39ab3",
   "metadata": {},
   "outputs": [],
   "source": [
    "\n",
    "# Definición de la función de transformación Box-Cox para arreglos de 2D\n",
    "\n",
    "def boxcox_transform( Data_array ):\n",
    "    \n",
    "    Data_lambdas = np.zeros( (np.size(Data_array,1)) )\n",
    "    \n",
    "    for i in range( np.size( Data_array, 1 ) ):\n",
    "        Data_array[:, i], Data_lambdas[i] = stats.boxcox( Data_array[:, i] )\n",
    "        \n",
    "    #endfor\n",
    "    \n",
    "    # function results\n",
    "    return Data_array, Data_lambdas\n",
    "\n",
    "#endfunction\n"
   ]
  },
  {
   "cell_type": "code",
   "execution_count": 15,
   "id": "ab10859d",
   "metadata": {},
   "outputs": [],
   "source": [
    "\n",
    "# Definición de la función de transformación Yoe-Johnson para arreglos de 2D\n",
    "\n",
    "def yoejohnson_transform( Data_array , Lmbdas = None ):\n",
    "\n",
    "    Data_lambdas = np.zeros( np.size( Data_array, 1 ) )\n",
    "    \n",
    "    if np.sum(Lmbdas) is None:\n",
    "        for i in range( np.size( Data_array, 1 ) ):\n",
    "            Data_array[:, i], Data_lambdas[i] = stats.yeojohnson( Data_array[:, i] )\n",
    "        \n",
    "        #endfor\n",
    "        \n",
    "    else:\n",
    "        for i in range( np.size( Data_array, 1 ) ):\n",
    "            Data_array[:, i]  = stats.yeojohnson( Data_array[:, i] , lmbda = Lmbdas[i] )\n",
    "        \n",
    "        #endfor\n",
    "        Data_lambdas = Lmbdas\n",
    "        \n",
    "    #endif\n",
    "    \n",
    "    # function results\n",
    "    return Data_array, Data_lambdas\n",
    "\n",
    "#endfunction\n"
   ]
  },
  {
   "cell_type": "code",
   "execution_count": 16,
   "id": "6c1b2ddd",
   "metadata": {},
   "outputs": [],
   "source": [
    "\n",
    "# función para calcular el Residual Sum of Squares (RSS)\n",
    "\n",
    "def RSS(y_real, y_calc):\n",
    "    return np.sum ( ( y_real - y_calc ) * ( y_real - y_calc ) )\n",
    "\n",
    "#endfunction\n"
   ]
  },
  {
   "cell_type": "code",
   "execution_count": 261,
   "id": "65d130aa",
   "metadata": {},
   "outputs": [],
   "source": [
    "\n",
    "# Multi-Layer Perceptron: simplest Neural Network configuration & data-split\n",
    "\n",
    "def MLPnnDSplit( data, trdSplit, varShuffle = False, randomState = None, HLayer = (10,), maxIter = 200, actvFn = 'relu', MLPsolver = 'adam' , stratifyData = None ):\n",
    "    \n",
    "    # Se instancian los data set de entrenamiento y evaluación\n",
    "    X_train, X_test, y_train, y_test = sklms.train_test_split( data[:,1:], data[:,0], stratify = stratifyData, random_state = randomState, train_size = trdSplit )\n",
    "    \n",
    "    # Se instancia el modelo\n",
    "    model = sklnn.MLPClassifier(hidden_layer_sizes = HLayer, max_iter = maxIter, activation = actvFn, solver = MLPsolver, random_state = randomState)\n",
    "    \n",
    "    # Variables de interés a almacenar\n",
    "    #RSSent = np.zeros((1))\n",
    "    #RSSeva = np.zeros((1))\n",
    "    #R2ent = np.zeros((1))\n",
    "    #R2eva = np.zeros((1))\n",
    "    \n",
    "    # Se entrena el modelo\n",
    "    model.fit( X_train, y_train )\n",
    "    \n",
    "    # Se prueba el modelo (datos de entrenamiento: resultados del modelo)\n",
    "    modelOutTrain = model.predict(X_train)\n",
    "\n",
    "    # Evaluación de la predicción (datos de entrenamiento)\n",
    "    RSSent = RSS( y_train , modelOutTrain )\n",
    "    R2ent = model.score(X_train, y_train)     # Root Mean Square\n",
    "\n",
    "    # Se prueba el modelo (datos de prueba: resultados del modelo entrenado)\n",
    "    modelOutEval = model.predict(X_test)\n",
    "\n",
    "    # Evaluación de la predicción (datos de prueba)\n",
    "    RSSeva = RSS( y_test , modelOutEval )\n",
    "    R2eva = model.score( X_test, y_test )     # Root Mean Square\n",
    "    \n",
    "    return RSSent , RSSeva , R2ent , R2eva , model\n",
    "    \n",
    "#endfunction\n"
   ]
  },
  {
   "cell_type": "code",
   "execution_count": 44,
   "id": "deab0260",
   "metadata": {},
   "outputs": [],
   "source": [
    "\n",
    "# Función para efectuar una red neuronal MLP con validación cruzada\n",
    "\n",
    "def KFoldsCVMLPnn( data, Nsplits, varShuffle = False, randomState = None, HLayer = (10,), maxIter = 200, actvFn = 'relu', MLPsolver = 'adam' ):\n",
    "    \n",
    "    # Se inicializa el k-folds cross validation\n",
    "    kfcv = sklms.KFold(n_splits = Nsplits, shuffle = varShuffle, random_state = randomState)\n",
    "    \n",
    "    # Se inicializa el modelo de Perceptrón Multivapa\n",
    "    model = sklnn.MLPClassifier(hidden_layer_sizes = HLayer, max_iter = maxIter, activation = actvFn, solver = MLPsolver, random_state = randomState)\n",
    "    \n",
    "    \n",
    "    # Variables de interés a almacenar\n",
    "    RSSent = np.zeros((Nsplits))\n",
    "    RSSeva = np.zeros((Nsplits))\n",
    "    R2ent = np.zeros((Nsplits))\n",
    "    R2eva = np.zeros((Nsplits))\n",
    "    #R2CValScore = np.zeros((Nsplits, Nsplits))\n",
    "    \n",
    "    \n",
    "    # Se generan los índices para separar los datos y se procede a predecir el modelo para cada set de datos\n",
    "    #kfcv.split(data7N)\n",
    "    \n",
    "    \n",
    "    i=0;   #contador\n",
    "\n",
    "    for train_index, test_index in kfcv.split(data):\n",
    "        #print(\"TRAIN:\", train_index, \"TEST:\", test_index)\n",
    "\n",
    "        # Inputs de entrenamiento y prueba\n",
    "        X_train, X_test = data[train_index, 1:], data[test_index, 1:]\n",
    "\n",
    "        # Outputs de entrenamiento y prueba\n",
    "        y_train, y_test = data[train_index, 0], data[test_index, 0]\n",
    "\n",
    "        # Se entrena el modelo\n",
    "        model.fit(X_train, y_train)\n",
    "\n",
    "        # Se prueba el modelo (datos de entrenamiento: resultados del modelo)\n",
    "        modelOutTrain = model.predict(X_train)\n",
    "\n",
    "        # Evaluación de la predicción (datos de entrenamiento)\n",
    "        RSSent[i] = RSS( y_train , modelOutTrain )\n",
    "        R2ent[i] = model.score(X_train, y_train)     # Root Mean Square\n",
    "\n",
    "        # Se prueba el modelo (datos de prueba: resultados del modelo entrenado)\n",
    "        modelOutEval = model.predict(X_test)\n",
    "\n",
    "        # Evaluación de la predicción (datos de prueba)\n",
    "        RSSeva[i] = RSS( y_test , modelOutEval )\n",
    "        R2eva[i] = model.score( X_test, y_test )     # Root Mean Square\n",
    "\n",
    "        #R2CValScore[i,:] = sklms.cross_val_score(model, X_test, y_test, cv = kfcv);\n",
    "\n",
    "        # Se actualiza el contador\n",
    "        i = i + 1;\n",
    "\n",
    "    #for_end\n",
    "    \n",
    "    #return RSSent , RSSeva , R2ent , R2eva , R2CValScore , model;\n",
    "    return RSSent , RSSeva , R2ent , R2eva , model;\n",
    "\n",
    "#function_end\n"
   ]
  },
  {
   "cell_type": "code",
   "execution_count": 114,
   "id": "1f0f3f10",
   "metadata": {},
   "outputs": [],
   "source": [
    "\n",
    "# R^2 del entrenamiento\n",
    "\n",
    "def R2entPrint( R2ent, dataTitle ):\n",
    "    \n",
    "    if np.sum(R2ent) is not None:\n",
    "        print(dataTitle + ': R^2 de cada iteración con los de entrenamiento:')\n",
    "        print(R2ent)\n",
    "        print('\\n')\n",
    "\n",
    "#endfunction\n"
   ]
  },
  {
   "cell_type": "code",
   "execution_count": 115,
   "id": "90203b65",
   "metadata": {},
   "outputs": [],
   "source": [
    "\n",
    "# RSS del entrenamiento\n",
    "\n",
    "def RSSentPrint( RSSent, dataTitle ):\n",
    "    \n",
    "    if np.sum(RSSent) is not None:\n",
    "        print(dataTitle + ': RSS de cada iteración con los datos de entrenamiento:')\n",
    "        print(RSSent)\n",
    "        print('\\n')\n",
    "\n",
    "#endfunction\n"
   ]
  },
  {
   "cell_type": "code",
   "execution_count": 116,
   "id": "f5da75b3",
   "metadata": {},
   "outputs": [],
   "source": [
    "\n",
    "# R^2 de la evaluación\n",
    "\n",
    "def R2evaPrint( R2eva, dataTitle ):\n",
    "    \n",
    "    if np.sum(R2eva) is not None:\n",
    "        print(dataTitle + ': R^2 de cada iteración con los datos de prueba:')\n",
    "        print(R2eva)\n",
    "        print('\\n')\n",
    "\n",
    "#endfunction\n"
   ]
  },
  {
   "cell_type": "code",
   "execution_count": 131,
   "id": "abacbcec",
   "metadata": {},
   "outputs": [],
   "source": [
    "\n",
    "# R^2 de la evaluación\n",
    "\n",
    "def RSSevaPrint( RSSeva, dataTitle ):\n",
    "    \n",
    "    if np.sum(RSSeva) is not None:\n",
    "        print(dataTitle + ': RSS de cada iteración con los datos de prueba:')\n",
    "        print(RSSeva)\n",
    "        print('\\n')\n",
    "\n",
    "#endfunction\n"
   ]
  },
  {
   "cell_type": "code",
   "execution_count": 118,
   "id": "f0c00773",
   "metadata": {},
   "outputs": [],
   "source": [
    "\n",
    "# R^2 usando la función cross_val_score\n",
    "\n",
    "def R2evaCVSPrint( R2CValScore, dataTitle ):\n",
    "    \n",
    "    if np.sum(R2CValScore) is not None:\n",
    "        print('error del modelo usando el comando cross_val_score:')\n",
    "        print(R2CValScore)\n",
    "        print('\\n')\n",
    "\n",
    "#endfunction\n"
   ]
  },
  {
   "cell_type": "code",
   "execution_count": 315,
   "id": "3306085a",
   "metadata": {},
   "outputs": [],
   "source": [
    "\n",
    "# presentar todos los errores resultados del modelo\n",
    "\n",
    "def modelErrorPrint( dataTitle=None , RSSent=None , RSSeva=None , R2ent=None , R2eva=None , R2CValScore=None ):\n",
    "    \n",
    "    # formato de los errores\n",
    "    np.set_printoptions(formatter={'float': lambda x: \"{0:0.5f}\".format(x)}, suppress = True)\n",
    "    \n",
    "    # errores de interés obtenidos\n",
    "    RSSentPrint( RSSent, dataTitle )\n",
    "    \n",
    "    RSSevaPrint( RSSeva, dataTitle )\n",
    "    \n",
    "    R2entPrint( R2ent, dataTitle )\n",
    "    \n",
    "    R2evaPrint( R2eva, dataTitle )\n",
    "    \n",
    "    R2evaCVSPrint( R2CValScore, dataTitle )\n",
    "\n",
    "#endfunction\n"
   ]
  },
  {
   "cell_type": "code",
   "execution_count": 251,
   "id": "6baf15fa",
   "metadata": {},
   "outputs": [],
   "source": [
    "\n",
    "# Linear Regression & data-split\n",
    "\n",
    "def LinearRegrDSplit( data, trdSplit, varShuffle = False, randomState = None, stratifyData = None ):\n",
    "    \n",
    "    # Se instancian los data set de entrenamiento y evaluación\n",
    "    Xtrain, Xtest, Ytrain, Ytest = sklms.train_test_split( data[:,1:], data[:,0], stratify = stratifyData, random_state = randomState, train_size = trdSplit )\n",
    "    \n",
    "    # Se instancia el modelo\n",
    "    model = skllm.LinearRegression()\n",
    "    \n",
    "    # Variables de interés a almacenar\n",
    "    #RSSent = np.zeros((1))\n",
    "    #RSSeva = np.zeros((1))\n",
    "    #R2ent = np.zeros((1))\n",
    "    #R2eva = np.zeros((1))\n",
    "    \n",
    "    # Se entrena el modelo\n",
    "    model.fit( Xtrain, Ytrain )\n",
    "    \n",
    "    # Se prueba el modelo (datos de entrenamiento: resultados del modelo)\n",
    "    modelOutTrain = model.predict(Xtrain)\n",
    "\n",
    "    # Evaluación de la predicción (datos de entrenamiento)\n",
    "    RSSent = RSS( Ytrain , modelOutTrain )\n",
    "    R2ent = model.score(Xtrain, Ytrain)     # Root Mean Square\n",
    "\n",
    "    # Se prueba el modelo (datos de prueba: resultados del modelo entrenado)\n",
    "    modelOutEval = model.predict(Xtest)\n",
    "\n",
    "    # Evaluación de la predicción (datos de prueba)\n",
    "    RSSeva = RSS( Ytest , modelOutEval )\n",
    "    R2eva = model.score( Xtest, Ytest )     # Root Mean Square\n",
    "    \n",
    "    return RSSent , RSSeva , R2ent , R2eva , model\n",
    "    \n",
    "#endfunction\n"
   ]
  },
  {
   "cell_type": "code",
   "execution_count": 231,
   "id": "fa85a63a",
   "metadata": {},
   "outputs": [],
   "source": [
    "\n",
    "# Función para efectuar la regresión lineal con validación cruzada\n",
    "\n",
    "def KFoldsCVLinearRegresion(data, Nsplits, varShuffle = False, randomState = None):\n",
    "    \n",
    "    # Se inicializa el k-folds cross validation\n",
    "    kfcv = sklms.KFold(n_splits = Nsplits, shuffle = varShuffle, random_state = randomState)\n",
    "\n",
    "    # Se obtienen los índices de los splits de data.\n",
    "    #kfcv.get_n_splits(data7N)\n",
    "\n",
    "    \n",
    "    # Se inicializa el modelo a entrenar\n",
    "    model = skllm.LinearRegression()\n",
    "    \n",
    "    \n",
    "    # Variables de interés a almacenar\n",
    "    betas = np.zeros((np.size(data,1) -1, Nsplits))\n",
    "    RSSent = np.zeros((Nsplits))\n",
    "    RSSeva = np.zeros((Nsplits))\n",
    "    R2ent = np.zeros((Nsplits))\n",
    "    R2eva = np.zeros((Nsplits))\n",
    "    R2CValScore = np.zeros((Nsplits, Nsplits))\n",
    "    \n",
    "    \n",
    "    # Se generan los índices para separar los datos y se procede a predecir el modelo para cada set de datos\n",
    "    #kfcv.split(data7N)\n",
    "    \n",
    "    \n",
    "    i=0;   #contador\n",
    "\n",
    "    for train_index, test_index in kfcv.split(data):\n",
    "        #print(\"TRAIN:\", train_index, \"TEST:\", test_index)\n",
    "\n",
    "        # Inputs de entrenamiento y prueba\n",
    "        X_train, X_test = data[train_index, 1:], data[test_index, 1:]\n",
    "\n",
    "        # Outputs de entrenamiento y prueba\n",
    "        y_train, y_test = data[train_index, 0], data[test_index, 0]\n",
    "\n",
    "        # Se entrena el modelo\n",
    "        model.fit(X_train, y_train)\n",
    "\n",
    "        # Se almacenan los coeficientes de la iteración\n",
    "        betas[:,i] = model.coef_\n",
    "\n",
    "        # Se prueba el modelo (datos de entrenamiento: resultados del modelo)\n",
    "        modelOutTrain = model.predict(X_train)\n",
    "\n",
    "        # Evaluación de la predicción (datos de entrenamiento)\n",
    "        RSSent[i] = RSS( y_train , modelOutTrain )\n",
    "        R2ent[i] = model.score(X_train, y_train)     # Root Mean Square\n",
    "\n",
    "        # Se prueba el modelo (datos de prueba: resultados del modelo entrenado)\n",
    "        modelOutEval = model.predict(X_test)\n",
    "\n",
    "        # Evaluación de la predicción (datos de prueba)\n",
    "        RSSeva[i] = RSS( y_test , modelOutEval )\n",
    "        R2eva[i] = model.score( X_test, y_test )     # Root Mean Square\n",
    "\n",
    "        R2CValScore[i,:] = sklms.cross_val_score(model, X_test, y_test, cv = kfcv);\n",
    "\n",
    "        # Se actualiza el contador\n",
    "        i = i + 1;\n",
    "\n",
    "\n",
    "    #for_end\n",
    "    \n",
    "    return betas , RSSent , RSSeva , R2ent , R2eva , R2CValScore, model;\n",
    "\n",
    "#function_end\n",
    "    "
   ]
  },
  {
   "cell_type": "code",
   "execution_count": 252,
   "id": "c0b35484",
   "metadata": {},
   "outputs": [],
   "source": [
    "\n",
    "# Logistic Regression & data-split\n",
    "\n",
    "def LogisticRegrDSplit( data, trdSplit, varShuffle = False, randomState = None, stratifyData = None ):\n",
    "    \n",
    "    # Se instancian los data set de entrenamiento y evaluación\n",
    "    Xtrain, Xtest, Ytrain, Ytest = sklms.train_test_split( data[:,1:], data[:,0], stratify = stratifyData, random_state = randomState, train_size = trdSplit )\n",
    "    \n",
    "    # Se instancia el modelo\n",
    "    model = skllm.LogisticRegression()\n",
    "    \n",
    "    # Variables de interés a almacenar\n",
    "    #RSSent = np.zeros((1))\n",
    "    #RSSeva = np.zeros((1))\n",
    "    #R2ent = np.zeros((1))\n",
    "    #R2eva = np.zeros((1))\n",
    "    \n",
    "    # Se entrena el modelo\n",
    "    model.fit( Xtrain, Ytrain )\n",
    "    \n",
    "    # Se prueba el modelo (datos de entrenamiento: resultados del modelo)\n",
    "    modelOutTrain = model.predict(Xtrain)\n",
    "\n",
    "    # Evaluación de la predicción (datos de entrenamiento)\n",
    "    RSSent = RSS( Ytrain , modelOutTrain )\n",
    "    R2ent = model.score(Xtrain, Ytrain)     # Root Mean Square\n",
    "\n",
    "    # Se prueba el modelo (datos de prueba: resultados del modelo entrenado)\n",
    "    modelOutEval = model.predict(Xtest)\n",
    "\n",
    "    # Evaluación de la predicción (datos de prueba)\n",
    "    RSSeva = RSS( Ytest , modelOutEval )\n",
    "    R2eva = model.score( Xtest, Ytest )     # Root Mean Square\n",
    "    \n",
    "    return RSSent , RSSeva , R2ent , R2eva , model\n",
    "    \n",
    "#endfunction\n"
   ]
  },
  {
   "cell_type": "code",
   "execution_count": 233,
   "id": "b3187053",
   "metadata": {},
   "outputs": [],
   "source": [
    "\n",
    "# Función para efectuar la regresión lineal con validación cruzada\n",
    "\n",
    "def KFoldsCVLogisticRegresion(data, Nsplits, varShuffle = False, randomState = None):\n",
    "    \n",
    "    # Se inicializa el k-folds cross validation\n",
    "    kfcv = sklms.KFold(n_splits = Nsplits, shuffle = varShuffle, random_state = randomState)\n",
    "\n",
    "    # Se obtienen los índices de los splits de data.\n",
    "    #kfcv.get_n_splits(data7N)\n",
    "\n",
    "    \n",
    "    # Se inicializa el modelo a entrenar\n",
    "    model = skllm.LogisticRegression()     #función de costo: l_2-norm\n",
    "    \n",
    "    \n",
    "    # Variables de interés a almacenar\n",
    "    betas = np.zeros((np.size(data,1) -1, Nsplits))\n",
    "    RSSent = np.zeros((Nsplits))\n",
    "    RSSeva = np.zeros((Nsplits))\n",
    "    R2ent = np.zeros((Nsplits))\n",
    "    R2eva = np.zeros((Nsplits))\n",
    "    R2CValScore = np.zeros((Nsplits, Nsplits))\n",
    "    \n",
    "    \n",
    "    # Se generan los índices para separar los datos y se procede a predecir el modelo para cada set de datos\n",
    "    #kfcv.split(data7N)\n",
    "    \n",
    "    \n",
    "    i=0;   #contador\n",
    "\n",
    "    for train_index, test_index in kfcv.split(data):\n",
    "        #print(\"TRAIN:\", train_index, \"TEST:\", test_index)\n",
    "\n",
    "        # Inputs de entrenamiento y prueba\n",
    "        X_train, X_test = data[train_index, 1:], data[test_index, 1:]\n",
    "\n",
    "        # Outputs de entrenamiento y prueba\n",
    "        y_train, y_test = data[train_index, 0], data[test_index, 0]\n",
    "\n",
    "        # Se entrena el modelo\n",
    "        model.fit(X_train, y_train)\n",
    "\n",
    "        # Se almacenan los coeficientes de la iteración\n",
    "        betas[:,i] = model.coef_\n",
    "\n",
    "        # Se prueba el modelo (datos de entrenamiento: resultados del modelo)\n",
    "        modelOutTrain = model.predict(X_train)\n",
    "\n",
    "        # Evaluación de la predicción (datos de entrenamiento)\n",
    "        RSSent[i] = RSS( y_train , modelOutTrain )\n",
    "        R2ent[i] = model.score(X_train, y_train)     # Root Mean Square\n",
    "\n",
    "        # Se prueba el modelo (datos de prueba: resultados del modelo entrenado)\n",
    "        modelOutEval = model.predict(X_test)\n",
    "\n",
    "        # Evaluación de la predicción (datos de prueba)\n",
    "        RSSeva[i] = RSS( y_test , modelOutEval )\n",
    "        R2eva[i] = model.score( X_test, y_test )     # Root Mean Square\n",
    "\n",
    "        R2CValScore[i,:] = sklms.cross_val_score(model, X_test, y_test, cv = kfcv);\n",
    "\n",
    "        # Se actualiza el contador\n",
    "        i = i + 1;\n",
    "\n",
    "\n",
    "    #for_end\n",
    "    \n",
    "    return betas , RSSent , RSSeva , R2ent , R2eva , R2CValScore, model;\n",
    "\n",
    "#function_end\n",
    "    "
   ]
  },
  {
   "cell_type": "code",
   "execution_count": 330,
   "id": "1c48aca7",
   "metadata": {},
   "outputs": [],
   "source": [
    "\n",
    "# función para evaluar data en una iteración después de generar el modelo\n",
    "def modelEvalPredict( model, data, title ):\n",
    "\n",
    "    np.set_printoptions(precision = 5, formatter = {'float': lambda x: \"{0.5f}\".format(x)}, suppress = True)\n",
    "\n",
    "    # modelo para toda la data\n",
    "    model.Out_ = model.model_.predict( data[:,1:] )\n",
    "    model.RSS_ = RSS( data[:, 0] , model.Out_ )\n",
    "    model.R2_ = model.model_.score( data[:,1:] , data[:, 0] )\n",
    "\n",
    "    # presentación de resultados\n",
    "    modelErrorPrint( title, RSSeva = model.RSS_, R2eva = model.R2_ )\n",
    "\n",
    "#endfunction\n"
   ]
  },
  {
   "cell_type": "code",
   "execution_count": null,
   "id": "fc5d8aa1",
   "metadata": {},
   "outputs": [],
   "source": []
  },
  {
   "cell_type": "markdown",
   "id": "f91b7dad",
   "metadata": {},
   "source": [
    "\\vspace{1cm} \\subsection*{\\scshape\\large Clases creadas}"
   ]
  },
  {
   "cell_type": "code",
   "execution_count": 19,
   "id": "e6b2389b",
   "metadata": {},
   "outputs": [],
   "source": [
    "\n",
    "# El objetivo de esta clase es añadirle atributos adicionales a los arreglos numpy de relevancia para el estudio\n",
    "# como lo son las variables estadísticas de interés.\n",
    "\n",
    "class StatsArr(np.ndarray):\n",
    "    \n",
    "    def __new__(cls, input_array, mean_=None, median_=None, mode_=None, max_=None, min_=None, range_=None, desv_=None, \n",
    "                skew_=None, kurt_=None, dataCorr_=None, Q1_=None, Q2_=None, Q3_=None, IQR_=None, TransfType_=None, \n",
    "                Lambdas_=None):\n",
    "        # Input array is an already formed ndarray instance\n",
    "        # We first cast to be our class type\n",
    "        obj = np.asarray(input_array).view(cls)\n",
    "        # add the new attribute to the created instance\n",
    "        obj.mean_ = mean_\n",
    "        obj.median_ = median_\n",
    "        obj.mode_ = mode_\n",
    "        obj.max_ = max_\n",
    "        obj.min_ = min_\n",
    "        obj.range_ = range_\n",
    "        obj.desv_ = desv_\n",
    "        obj.skew_ = skew_\n",
    "        obj.kurt_ = kurt_\n",
    "        obj.dataCorr_ = dataCorr_\n",
    "        obj.Q1_ = Q1_\n",
    "        obj.Q2_ = Q2_\n",
    "        obj.Q3_ = Q3_\n",
    "        obj.IQR_ = IQR_\n",
    "        obj.Transftype_ = TransfType_\n",
    "        obj.Lambdas_ = Lambdas_\n",
    "        # Finally, we must return the newly created object:\n",
    "        return obj\n",
    "    \n",
    "    #endfunction\n",
    "\n",
    "    def __array_finalize__(self, obj):\n",
    "        # see InfoArray.__array_finalize__ for comments\n",
    "        if obj is None: return\n",
    "        self.mean_   = getattr(obj, 'mean_', None)\n",
    "        self.median_ = getattr(obj, 'median_', None)\n",
    "        self.mode_   = getattr(obj, 'mode_', None)\n",
    "        self.max_    = getattr(obj, 'max_', None)\n",
    "        self.min_    = getattr(obj, 'min_', None)\n",
    "        self.range_  = getattr(obj, 'range_', None)\n",
    "        self.desv_   = getattr(obj, 'desv_', None)\n",
    "        self.skew_   = getattr(obj, 'skew_', None)\n",
    "        self.kurt_   = getattr(obj, 'kurt_', None)\n",
    "        self.dataCorr_ = getattr(obj, 'dataCorr_', None)\n",
    "        self.Q1_ = getattr(obj, 'Q1_', None)\n",
    "        self.Q2_ = getattr(obj, 'Q2_', None)\n",
    "        self.Q3_ = getattr(obj, 'Q3_', None)\n",
    "        self.IQR_ = getattr(obj, 'IQR_', None)\n",
    "        self.TransfType_ = getattr(obj, 'TransfType_', None)\n",
    "        self.Lambdas_ = getattr(obj, 'Lambdas_', None)\n",
    "        # We do not need to return anything\n",
    "    \n",
    "    #endfunction\n",
    "    \n",
    "#endclass"
   ]
  },
  {
   "cell_type": "code",
   "execution_count": 165,
   "id": "51f32816",
   "metadata": {},
   "outputs": [],
   "source": [
    "\n",
    "# Clase que almacena los datos de interés del modelo\n",
    "class ModelsInfo:\n",
    "    \n",
    "    def __init__(self, model_=None, RSSent_=None, RSSeva_=None, R2ent_=None, R2eva_=None, Betas_=None, R2CValScore_=None, RSS_=None, R2_=None, Out_=None):\n",
    "        \n",
    "        self.model_ = model_\n",
    "        self.RSSent_ = RSSent_\n",
    "        self.RSSeva_ = RSSeva_\n",
    "        self.R2ent_ = R2ent_\n",
    "        self.R2eva_ = R2eva_\n",
    "        self.Betas_ = Betas_\n",
    "        self.R2CValScore_ = R2CValScore_\n",
    "        self.RSS_ = RSS_\n",
    "        self.R2_ = R2_\n",
    "        self.Out_ = Out_\n",
    "        \n",
    "    #endfunction\n",
    "    \n",
    "#endclass\n"
   ]
  },
  {
   "cell_type": "code",
   "execution_count": null,
   "id": "b6053c00",
   "metadata": {},
   "outputs": [],
   "source": []
  },
  {
   "cell_type": "markdown",
   "id": "0d888529",
   "metadata": {},
   "source": [
    "\\newpage"
   ]
  },
  {
   "cell_type": "markdown",
   "id": "31e1b325",
   "metadata": {},
   "source": [
    "\\vspace{1cm}\n",
    "\\section{\\scshape\\large Evolución de las Redes Neuronales Artificiales a lo largo de la historia}"
   ]
  },
  {
   "cell_type": "markdown",
   "id": "01c9ee92",
   "metadata": {},
   "source": [
    "Las redes neuronales iniciaron en los primeros momentos del desarrollo de la inteligencia artificial y han ido evolucionando hasta nuestros días, y aún siguen en desarrollo y evolución. Entre los hitos más importantes de su historia, se encuentran:\n",
    "\\begin{itemize}\n",
    "    \\item[$\\circ$] En 1943, McCulloch y Pitts publicaron “un cálculo lógico de las ideas inmanentes en la actividad nerviosa”. Documento que sentó las bases de las redes neuronales artificiales, además de intentar demostrar que un programa para la máquina de Turing puede ser implementado con una red finita de neuronas formales.\n",
    "    \\item[$\\circ$] En 1949, el Psicólogo Donald Hebb fue el primero en explica los procesos del aprendizaje y cómo ocurría; fundamentos bajo el cual se guían muchos de los modelos de aprendizaje de las redes neuronales.\n",
    "    \\item[$\\circ$] En 1951, Minsky y Edmonds desarrollan SNARC, la primera neuro-computadora compuesta por 40 neuronas informáticas que buscaban imitar una rata mientras se abre paso en un laberinto.\n",
    "    \\item[$\\circ$] En 1957, Frank Rosenblatt creo el perceptrón, que es considerado la primera red neuronal artificial. Consiste en un conjunto de entradas binarias, que son multiplicadas por pesos y cuya suma de dichos productos produce una salida binaria que es 1 si supera un umbral.\n",
    "    \\item[$\\circ$] En 1959, Widrow y Hoff crean ADALINE, red neuronal desarrollada para reconocer patrones binarios. Fue la primera red neuronal en implementarse en un problema real: filtros adaptativos para eliminar ecos en líneas telefónicas.\n",
    "    \\item[$\\circ$] En 1965 se creo el primer perceptrón multicapa, siendo capaz de solucionar elementos no linealmente separables.\n",
    "    \\item[$\\circ$] En 1967, Grossberg creó la red avalancha. Consistía en un conjunto de elementos discretos con actividad que varía con el tiempo que satisface ecuaciones diferenciales continuas, especializadas en reconocimiento continuo del habla y aprendizaje del movimiento de los brazos de un robot.\n",
    "    \\item[$\\circ$] En 1969, Minsky y Papert demostraron matemáticamente que el Percetrón no era capaz de resolver problemas matemáticamente simples, tales como el aprendizaje de una función no lineal, lo que mostró lo débil que era. Esto fue un golpe muy duro para los modelos de redes neuronales en su tiempo.\n",
    "    \\item[$\\circ$] En 1974, Paul Werbos desarrolló la idea básica del algoritmo de retropropagación (backpropagation), cuya idea se terminó de definir en 1985.\n",
    "    \\item[$\\circ$] En 1977, Jame Anderson creó la red asociador lineal. Consistía en elementos integradores lineales (neuronal) que sumaban sus entradas. Este modelo se basa en el principio de que las conexiones entre neuronas son reforzadas cada vez que se activan.\n",
    "    \\item[$\\circ$] En 1977, Grossberg presenta la teoría de resonancia adaptativa (TRA). Es una red neuronal que basa su funcionamiento en cómo el cerebro procesa información y describe una serie de modelos de redes neuronales que utilizan métodos de aprendizaje supervisado y no supervisado. Son capaces de simular la memoria a corto y a largo plazo.\n",
    "    \\item[$\\circ$] En 1980 se desarrollan las neuronas sigmoides. Redes neuronales cuya entrada puede ser un valor real (continuo), en vez de uno binario (0 o 1). También aparecen las neuronas bias, que siempre suman 1, lo que permite solucionar diversas situaciones.\n",
    "    \\item[$\\circ$] En 1980, Kunihiko Fukushima desarrolla un modelo neuronal para reconocer patrones visuales.\n",
    "    \\item[$\\circ$] En 1980 se crean las redes Feedforward. Redes neuronales cuyas salidas de una capa son utilizadas como entradas para la próxima capa, lo que significa que no hay loop hacia atrás. Siempre se alimentan de valores hacia adelante.\n",
    "    \\item[$\\circ$] En 1982, Kohonen presentó los mapas auto-organizados (SON, Self-Organizing Maps). Tipo de red que posee un aprendizaje no supervisado competitivo capaz de descubrir rasgos comunes, regularidades, correlaciones o categorías en los datos de entradas, e incorporarlos a una estructura interna de conexiones.\n",
    "    \\item[$\\circ$] En 1985, Hopfield provocó el renacimiento de las redes neuronales con su libro: “computación neuronal de decisiones en problemas de optimización”.\n",
    "    \\item[$\\circ$] En 1986 se define el algoritmo de aprendizaje de retropropagación (backpropagation), por Rumelhart y Hinton, lo que hizo posible entrenar redes de múltiples capaz de forma supervisada.\n",
    "    \\item[$\\circ$] En 1989, Yann LeCun desarrolla las redes neuronales convolucionales.\n",
    "    \\item[$\\circ$] En 1997 se presentan las redes LSTM (Long Short Term Memory). Redes neuronales cuya arquitectura permite conexiones hacia atrás entre sus capaz.\n",
    "    \\item[$\\circ$] En 2000, Hinton y Salakhutdinov popularizan el término “Aprendizaje Profundo” gracias a su artículo en el que muestran cómo se puede pre-entrenar una red neuronal una capa a la vez.\n",
    "    \\item[$\\circ$] En 2006 se presenta la red de creencia profunda (DBN, Deep Belief Network). Red que utiliza una asignación de pesos inteligente a través de un pre-entrenamiento no supervisado de las capas. Se considera el comienzo del Deep Learning.\n",
    "    \\item[$\\circ$] En 2009 se crea NIPS (Neural Information Processing Systems). Un workshop sobre aprendizaje profundo para reconocimiento de voz, que descubre que con conjuntos de datos lo suficientemente grandes, las redes neuronales no requieren pre-entrenamiento.\n",
    "    \\item[$\\circ$] En 2012, Google presenta un algoritmo de reconocimiento de patrones capaz de realizar tareas a nivel humano. El algoritmo de Google es capaz de identificar gatos.\n",
    "    \\item[$\\circ$] En 2014 se generan las redes generativas antagónicas (GAN), que consisten en dos modelos de redes neuronales compitiendo en simultáneo.\n",
    "    \\item[$\\circ$] En 2016 el algoritmo de Google DeepMind, AlphaGo, mapea el arte del complejo juego de tablero Go y vence al campeón mundial de Go.\n",
    "    \\item[$\\circ$] En 2017 se adopta el Deep Learning como principal tecnología en diversas aplicaciones.\n",
    "\\end{itemize}"
   ]
  },
  {
   "cell_type": "markdown",
   "id": "a4a26ef5",
   "metadata": {},
   "source": [
    "\\newpage"
   ]
  },
  {
   "cell_type": "markdown",
   "id": "202f49b9",
   "metadata": {},
   "source": [
    "\\vspace{1cm}\n",
    "\\section{\\scshape\\large Información relevante de la base de datos}"
   ]
  },
  {
   "cell_type": "code",
   "execution_count": 207,
   "id": "1801357f",
   "metadata": {},
   "outputs": [
    {
     "name": "stdout",
     "output_type": "stream",
     "text": [
      "Tamaño de la data Data iris de Flores\n",
      "Cantidad de muestras:  150\n",
      "Número de Atriutos de cada muestra:  5\n"
     ]
    }
   ],
   "source": [
    "# Se carga la data\n",
    "data0 = np.loadtxt(\"iris.data\", dtype = str, delimiter =\",\")\n",
    "printDataInfo(data0, 'Data iris de Flores')"
   ]
  },
  {
   "cell_type": "markdown",
   "id": "c09c0f29",
   "metadata": {},
   "source": [
    "De acuerdo con la información de la data, los atributo que posee son:\n",
    "\\begin{enumerate}\n",
    "    \\item \\; Longitud sepal en CM\n",
    "    \\item \\; Ancho sepal en CM\n",
    "    \\item \\; Longitud de pétalo en CM\n",
    "    \\item \\; Ancho de pétalo en CM\n",
    "    \\item \\; Clase:\n",
    "    \\begin{itemize}\n",
    "        \\item[$-$] \\; Iris Setosa\n",
    "        \\item[$-$] \\; Iris Versicolor\n",
    "        \\item[$-$] \\; Iris Virginica\n",
    "    \\end{itemize}\n",
    "\\end{enumerate}\n",
    "Además, cada clase corresponde a un 33.333% de las muestras de la data."
   ]
  },
  {
   "cell_type": "markdown",
   "id": "59790a29",
   "metadata": {},
   "source": [
    "\\vspace{1cm} \\subsection{\\bfseries\\scshape\\large Primer Procesamiento de la base de datos}"
   ]
  },
  {
   "cell_type": "markdown",
   "id": "92e55e24",
   "metadata": {},
   "source": [
    "Lo Primero es transformar el atributo asociado a la clasificación de etiquetas a una variable numérica de naturaleza discreta para posteriormente convertir la data de cadena de caracteres a números para poder aplicar las siguientes metodologías de análisis y procesamiento.\n",
    "\n",
    "Adicionalmente, para mantener una uniformidad y facilitar el código, se colocará la columna asociada al atributo de clasificación como la primera columna del arreglo."
   ]
  },
  {
   "cell_type": "markdown",
   "id": "ce9b798f",
   "metadata": {},
   "source": [
    "La conversión de las etiquetas será la siguiente:\n",
    "\\begin{align*}\n",
    "    &Iris \\, Setosa \\quad\\;\\;\\;   \\rightarrow \\; 1 \\\\\n",
    "    &Iris \\, Versicolor \\;        \\rightarrow \\; 2 \\\\\n",
    "    &Iris \\, Virginica \\;\\;\\,     \\rightarrow \\; 3 \\\\\n",
    "\\end{align*}"
   ]
  },
  {
   "cell_type": "code",
   "execution_count": 22,
   "id": "37c8af4e",
   "metadata": {},
   "outputs": [],
   "source": [
    "# Se transforma la columna de clasificación en binario\n",
    "data0[ data0[ : , -1 ] == 'Iris-setosa'     , -1 ] = 1\n",
    "data0[ data0[ : , -1 ] == 'Iris-versicolor' , -1 ] = 2\n",
    "data0[ data0[ : , -1 ] == 'Iris-virginica'  , -1 ] = 3\n",
    "\n",
    "# Se convierte la data de String a Float\n",
    "data0 = data0.astype(float)\n",
    "\n",
    "# Se coloca la columna de clasificación en la primera posición\n",
    "data0 = np.column_stack( (data0[:,-1], data0[:, :-1]) )\n",
    "\n",
    "# Se instacia la data en un objeto para darle atributos adicionales al arreglo\n",
    "data0_ = StatsArr( data0 )"
   ]
  },
  {
   "cell_type": "code",
   "execution_count": 23,
   "id": "d7e7cbae",
   "metadata": {},
   "outputs": [],
   "source": [
    "# Se define un vector con los nombres de las variables\n",
    "varnames = ['Clase', 'Longitud sepal [CM]', 'Ancho sepal [CM]', 'Longitud de pétalo [CM]', 'Ancho de pétalo [CM]']"
   ]
  },
  {
   "cell_type": "markdown",
   "id": "15013d47",
   "metadata": {},
   "source": [
    "Una vez concluido este primer pre-procesamiento, se realiza el análisis estadístico de las variables involucradas."
   ]
  },
  {
   "cell_type": "markdown",
   "id": "4e56f3aa",
   "metadata": {},
   "source": [
    "\\vspace{1cm} \\section{\\bfseries\\scshape\\Large Análisis Estadístico de los datos}"
   ]
  },
  {
   "cell_type": "markdown",
   "id": "2010d0cd",
   "metadata": {},
   "source": [
    "En este caso, se procede a determinarlos valores de las variables de interés."
   ]
  },
  {
   "cell_type": "code",
   "execution_count": 24,
   "id": "bcce7a1f",
   "metadata": {},
   "outputs": [
    {
     "name": "stdout",
     "output_type": "stream",
     "text": [
      "la media de los atributos para la Data Iris de flores es:\n",
      "[2.00671e+00 5.84832e+00 3.05101e+00 3.77450e+00 1.20537e+00]\n",
      "\n",
      "la mediana de los atributos para la Data Iris de flores es:\n",
      "[2.00000e+00 5.80000e+00 3.00000e+00 4.40000e+00 1.30000e+00]\n",
      "\n",
      "la moda de los atributos para la Data Iris de flores es:\n",
      "ModeResult(mode=array([[2.00000e+00, 5.00000e+00, 3.00000e+00, 1.50000e+00, 2.00000e-01]]), count=array([[50, 10, 26, 14, 27]]))\n",
      "\n",
      "el valor máximo de los atributos para la Data Iris de flores es:\n",
      "[3.00000e+00 7.90000e+00 4.40000e+00 6.90000e+00 2.50000e+00]\n",
      "\n",
      "el valor mínimo de los atributos para la Data Iris de flores es:\n",
      "[1.00000e+00 4.30000e+00 2.00000e+00 1.00000e+00 1.00000e-01]\n",
      "\n",
      "lel rango de los atributos para la Data Iris de flores es:\n",
      "[2.00000e+00 3.60000e+00 2.40000e+00 5.90000e+00 2.40000e+00]\n",
      "\n",
      "la desviación estándar de los atributos para la Data Iris de flores es:\n",
      "[8.15098e-01 8.25809e-01 4.32042e-01 1.75374e+00 7.58733e-01]\n",
      "\n",
      "la asimetría de los atributos para la Data Iris de flores es:\n",
      "[-1.24345e-02 3.03098e-01 3.50101e-01 -2.89459e-01 -1.17808e-01]\n",
      "\n",
      "el curtosis de los atributos para la Data Iris de flores es:\n",
      "[-1.50477e+00 -5.53560e-01 3.18655e-01 -1.38500e+00 -1.32804e+00]\n",
      "\n"
     ]
    }
   ],
   "source": [
    "# Estudio estadístico de la data: variables estadísticas\n",
    "data0_.mean_, data0_.median_, data0_.mode_, data0_.max_, data0_.min_, data0_.range_, data0_.desv_, data0_.skew_, data0_.kurt_ = StatsVars(data0_[1:], 'Data Iris de flores')"
   ]
  },
  {
   "cell_type": "markdown",
   "id": "936c20f1",
   "metadata": {},
   "source": [
    "De los resultados obtenidos se puede apreciar que el conjunto de datos de cada atributo de cada muestra se encuentra dento \n",
    "del mismo orden de magnitud, $1e^0$. Esto es corroborado por los valores de la media, mediana, máximo y mínimo, que se mantienen dentro de ese orden, y también por la desviación estándar que, para casi todos los casos mantiene un orden de magnitud de $1e^{-1}$ (el mayor valor de desviación es de 1.76, que corresponde con una media de 3.76), lo que sugiere que la variación de valores de los atributos en las muestras se mantiene dentro del orden de magnitud de $1e^0$.\n",
    "\n",
    "Por otro lado, los valores de asimetría tienen un orden de magnitud de $1e^{-1}$, por lo que la desviación de la distribución respecto al eje vertical que cruza por el valor central del rango de valores del atributo no debe ser muy alta. La asimetría de los atributos Longitud Sepal y Ancho Sepal es positiva, mientras que la Longitud de Pétalo y Ancho de Pétalo es negativo, lo que indica que dos distribuciones están inclinadas hacia la derecha y las otras dos hacia la izquierda. Adicionalmente, todos los atributos excepto Ancho Sepal tienen una curtosis negativa, del orden de $1e^0$, lo que indican que su distribución puede tener un comportamiento Platicúrtico, mientras que el atributo Ancho Sepal, cuya curtosis es positiva y del orden de $1e^{-1}$, lo que sugiere que la distribución puede tener una tendencia mesocúrtica.\n",
    "\n",
    "Para tener una idea más clara del comportamiento de los datos, se procede a mostrar los histogramas de cada atributo."
   ]
  },
  {
   "cell_type": "code",
   "execution_count": 25,
   "id": "6b76f11e",
   "metadata": {},
   "outputs": [
    {
     "data": {
      "image/png": "[encoded data removed]",
      "text/plain": [
       "<Figure size 720x144 with 1 Axes>"
      ]
     },
     "metadata": {
      "needs_background": "light"
     },
     "output_type": "display_data"
    },
    {
     "data": {
      "image/png": "[encoded data removed]",
      "text/plain": [
       "<Figure size 720x144 with 1 Axes>"
      ]
     },
     "metadata": {
      "needs_background": "light"
     },
     "output_type": "display_data"
    },
    {
     "data": {
      "image/png": "[encoded data removed]",
      "text/plain": [
       "<Figure size 720x144 with 1 Axes>"
      ]
     },
     "metadata": {
      "needs_background": "light"
     },
     "output_type": "display_data"
    },
    {
     "data": {
      "image/png": "[encoded data removed]",
      "text/plain": [
       "<Figure size 720x144 with 1 Axes>"
      ]
     },
     "metadata": {
      "needs_background": "light"
     },
     "output_type": "display_data"
    }
   ],
   "source": [
    "histogrmAllAtriSep(data0_[:,1:], varnames[1:], 'Data Iris de Flores')"
   ]
  },
  {
   "cell_type": "markdown",
   "id": "cf87aa89",
   "metadata": {},
   "source": [
    "De los resultados anteriores se aprecia claramente que los atributos Longitud de Pétalo y Ancho de Pétalo difieren en gran medida de un comportamiento gaussiano, mientras que los tributos Longitud Sepal y Ancho Sepal mantienen un mayor parentesco, pero no lo suficientemente cercano, por lo que será necesario realizar una transformación de los datos.\n",
    "\n",
    "A continuación, se mostrará el comportamiento de todos los atributos con el atributo Clase a través de diagramas de dispersión."
   ]
  },
  {
   "cell_type": "code",
   "execution_count": 26,
   "id": "d5885ca6",
   "metadata": {},
   "outputs": [
    {
     "data": {
      "image/png": "[encoded data removed]",
      "text/plain": [
       "<Figure size 720x90 with 1 Axes>"
      ]
     },
     "metadata": {
      "needs_background": "light"
     },
     "output_type": "display_data"
    },
    {
     "data": {
      "image/png": "[encoded data removed]",
      "text/plain": [
       "<Figure size 720x90 with 1 Axes>"
      ]
     },
     "metadata": {
      "needs_background": "light"
     },
     "output_type": "display_data"
    },
    {
     "data": {
      "image/png": "[encoded data removed]",
      "text/plain": [
       "<Figure size 720x90 with 1 Axes>"
      ]
     },
     "metadata": {
      "needs_background": "light"
     },
     "output_type": "display_data"
    },
    {
     "data": {
      "image/png": "[encoded data removed]",
      "text/plain": [
       "<Figure size 720x90 with 1 Axes>"
      ]
     },
     "metadata": {
      "needs_background": "light"
     },
     "output_type": "display_data"
    }
   ],
   "source": [
    "ScatterPlotAllto1Sep(data0_, varnames, 'Data Iris de Flores')"
   ]
  },
  {
   "cell_type": "markdown",
   "id": "14df7ab3",
   "metadata": {},
   "source": [
    "De los gráficos anteriores se aprecia una clara tendencia entre los atributos Longitud Sepal, Longitud de Pétalo y Ancho de Pétalo con la Clase: conforme aumenta el valor de alguno de estos atributos, se asocia directamente con un elemento de Clases (en este caso, para los valores seleccionados, de mayor magnitud). El atributo Ancho Sepal parece tener una relación más difusa con el atributo Clase.\n",
    "\n",
    "Esto se puede observar estudiando la correlación entre cada atributo con el atributo Clase. Esto se Determina mediante la correlación de Pearson, cuya ecuación se presenta a continuación:\n",
    "\\begin{align*}\n",
    "\tr_{x,y} = \\frac{ \\sum_{i=0}^N{ {\\sigma}_x {\\sigma}_y } }{N}\n",
    "\\end{align*}\n"
   ]
  },
  {
   "cell_type": "code",
   "execution_count": 27,
   "id": "2ea55260",
   "metadata": {},
   "outputs": [
    {
     "data": {
      "image/png": "[encoded data removed]",
      "text/plain": [
       "<Figure size 864x288 with 1 Axes>"
      ]
     },
     "metadata": {
      "needs_background": "light"
     },
     "output_type": "display_data"
    }
   ],
   "source": [
    "#correlación de Pearson\n",
    "data0_.dataCorr_ = np.corrcoef(np.transpose(data0_))\n",
    "\n",
    "# plot de la correlación\n",
    "barPlotSimp(data0_.dataCorr_[1:,0], varnames, 'Data Iris de Flores')"
   ]
  },
  {
   "cell_type": "markdown",
   "id": "90155d9b",
   "metadata": {},
   "source": [
    "De los gráficos de barra en los que se muestra el nivel de correlación de cada atributo con respecto al atributo Clase, se muestra que los atributos Longitud de Pétalo y Ancho de Pétalo poseen una correlación muy alta con el atributo Clase, mientras que la Longitud Sepal posee una correlación un poco menor, pero igual muy alta. Por otro lado, el atributo Ancho Sepal posee una anti-correlación baja respecto a los niveles de correlación de los demás atributos."
   ]
  },
  {
   "cell_type": "markdown",
   "id": "eca1a1dd",
   "metadata": {},
   "source": [
    "\\vspace{1cm} \\section{\\bfseries\\scshape\\Large Procesamiento de la Data}"
   ]
  },
  {
   "cell_type": "markdown",
   "id": "c13ae374",
   "metadata": {},
   "source": [
    "A continuación, se procede a implementar el procesamiento de los datos para (1) extraer los valores atípicos, (2) transformarlos para hacer que su comportamiento sea lo más similar a una gaussiana y (3) estandarizarlos."
   ]
  },
  {
   "cell_type": "markdown",
   "id": "ed8bde37",
   "metadata": {},
   "source": [
    "\\vspace{1cm} \\subsection{\\scshape\\large Sustracción de valores atípicos}"
   ]
  },
  {
   "cell_type": "markdown",
   "id": "ff11e35e",
   "metadata": {},
   "source": [
    "Para la extracción de los valores atípicos, se implementará el criterio IQR. Un resumen del criterio se presenta en la siguiente figura\n",
    "\\begin{figure}\n",
    "    \\centering\n",
    "    \\includegraphics[width=0.4\\textwidth]{IQR_Boxplot.png}\n",
    "\\end{figure}\n",
    "Para tener una apreciación visual de la existencia de los valores atípicos, se procede a presentar los mismos en un gráfico."
   ]
  },
  {
   "cell_type": "code",
   "execution_count": 28,
   "id": "1a7834e6",
   "metadata": {},
   "outputs": [
    {
     "name": "stdout",
     "output_type": "stream",
     "text": [
      "Q1 de los atributos es:\n",
      "[1.00000e+00 5.10000e+00 2.80000e+00 1.60000e+00 3.00000e-01]\n",
      "\n",
      "Q2 de los atributos es:\n",
      "[2.00000e+00 5.80000e+00 3.00000e+00 4.35000e+00 1.30000e+00]\n",
      "\n",
      "Q3 de los atributos es:\n",
      "[3.00000e+00 6.40000e+00 3.30000e+00 5.10000e+00 1.80000e+00]\n",
      "\n",
      "IQR de los atributos es:\n",
      "[2.00000e+00 1.30000e+00 5.00000e-01 3.50000e+00 1.50000e+00]\n",
      "\n"
     ]
    }
   ],
   "source": [
    "data0_.Q1_, data0_.Q2_, data0_.Q3_, data0_.IQR_ = IQRparamCalc( data0_ )"
   ]
  },
  {
   "cell_type": "code",
   "execution_count": 29,
   "id": "b4e54f17",
   "metadata": {},
   "outputs": [
    {
     "data": {
      "image/png": "[encoded data removed]",
      "text/plain": [
       "<Figure size 864x288 with 1 Axes>"
      ]
     },
     "metadata": {
      "needs_background": "light"
     },
     "output_type": "display_data"
    }
   ],
   "source": [
    "BoxPlotAllin1( data0_[:, 1:], varnames[1:], 'Data Iris de Flores')"
   ]
  },
  {
   "cell_type": "markdown",
   "id": "d57e08ca",
   "metadata": {},
   "source": [
    "Como se logra apreciar, son realmente bajos las muestras con valores atípicos presentes en la data (solo 4 según la figura anterior). A continuación, se proceden a remover dichas muestras."
   ]
  },
  {
   "cell_type": "code",
   "execution_count": 213,
   "id": "4b8d96a8",
   "metadata": {},
   "outputs": [],
   "source": [
    "data1 = AtipValueRemv( data0_ )\n",
    "data1_ = StatsArr( data1 )"
   ]
  },
  {
   "cell_type": "markdown",
   "id": "1484828a",
   "metadata": {},
   "source": [
    "Con las muestras con valores atípicos removidas, se procede a transformar la data."
   ]
  },
  {
   "cell_type": "markdown",
   "id": "87a57cc1",
   "metadata": {},
   "source": [
    "\\vspace{1cm} \\subsection{\\scshape\\large Transformación de la data}"
   ]
  },
  {
   "cell_type": "markdown",
   "id": "61505f70",
   "metadata": {},
   "source": [
    "Para esta experiencia, se escoge implementar la Transformación Yoe-Johnson, que resulta ser el equivalente de la transformación Box-Cox, pero para data de valores continuos no estrictamente positivos. su expresión matemática se presenta a continuación:\n",
    "\\begin{align*}\n",
    "\tu(x) = \n",
    "  \\begin{cases} \\begin{array}{l}\n",
    "     \\ln(x + 1) \\quad $sí$ \\quad  \\lambda = 0 \\;$\\&$\\; x > 0     \\\\[5pt]\n",
    "     \\frac{({(x + 1)}^{\\lambda}-1)}{\\lambda} \\quad $sí$ \\quad  \\lambda \\neq 0 \\;$\\&$\\; x > 0     \\\\[5pt]\n",
    "     -\\ln(-x + 1) \\quad $sí$ \\quad  \\lambda = 2 \\;$\\&$\\; x < 0     \\\\[5pt]\n",
    "     \\frac{({(-x + 1)}^{2-\\lambda}-1)}{2-\\lambda} \\quad $sí$ \\quad  \\lambda \\neq 2 \\;$\\&$\\; x < 0\n",
    "  \\end{array}\t\\end{cases}\n",
    "\\end{align*}\n",
    "La transformada Yoe-Johnson resulta conveniente sobre la transformada Box-Cox debido a que uno de los atributos posee valores típicos iguales a cero, valor que resulta inadmisible para la transformada Box-Cox."
   ]
  },
  {
   "cell_type": "code",
   "execution_count": 32,
   "id": "9d681b11",
   "metadata": {},
   "outputs": [],
   "source": [
    "data1_.TransfType = 'Yoe-Johnsom Transform'\n",
    "data1_[:,1:], data1_.Lambdas_ = yoejohnson_transform( data1_[:,1:] , Lmbdas = None )"
   ]
  },
  {
   "cell_type": "markdown",
   "id": "8e2f6253",
   "metadata": {},
   "source": [
    "Ahora se presentan los histogramas de los atributos transformados para apreciar el comportamiento actual de la distribución."
   ]
  },
  {
   "cell_type": "code",
   "execution_count": 33,
   "id": "57ac583d",
   "metadata": {},
   "outputs": [
    {
     "data": {
      "image/png": "[encoded data removed]",
      "text/plain": [
       "<Figure size 720x144 with 1 Axes>"
      ]
     },
     "metadata": {
      "needs_background": "light"
     },
     "output_type": "display_data"
    },
    {
     "data": {
      "image/png": "[encoded data removed]",
      "text/plain": [
       "<Figure size 720x144 with 1 Axes>"
      ]
     },
     "metadata": {
      "needs_background": "light"
     },
     "output_type": "display_data"
    },
    {
     "data": {
      "image/png": "[encoded data removed]",
      "text/plain": [
       "<Figure size 720x144 with 1 Axes>"
      ]
     },
     "metadata": {
      "needs_background": "light"
     },
     "output_type": "display_data"
    },
    {
     "data": {
      "image/png": "[encoded data removed]",
      "text/plain": [
       "<Figure size 720x144 with 1 Axes>"
      ]
     },
     "metadata": {
      "needs_background": "light"
     },
     "output_type": "display_data"
    }
   ],
   "source": [
    "histogrmAllAtriSep(data1_[:,1:], varnames[1:], 'Data Iris de Flores Transformados')"
   ]
  },
  {
   "cell_type": "markdown",
   "id": "edcb0987",
   "metadata": {},
   "source": [
    "Se ve una mejora apreciable en la data. Los atributos Longitud Sepal y Ancho Sepal tiene un comportamiento más cercano a una gaussiana. No obstante, los atributos Longitud de Pétalo y Ancho de Pétalo posee una gran cantidad de valores cuyo valor se encuentra en el extremo, al ser transformados, se mantienen en el extremo, mientras que el resto de valores adquiere un comportamiento de distribución gaussiana."
   ]
  },
  {
   "cell_type": "markdown",
   "id": "c099fce6",
   "metadata": {},
   "source": [
    "\\vspace{1cm} \\subsection{\\scshape\\large Estandarización de la data}"
   ]
  },
  {
   "cell_type": "markdown",
   "id": "e10fd880",
   "metadata": {},
   "source": [
    "Si bien los datos se mantienen dentro de valores muy cercanos, con la finalidad de mantener un mismo rango de valores numéricos, se procede a estandarizar la data transformada. De esta forma, se evita posibles incrementos en desviaciones, diferencia entre medias y otros que pueden ser productos de la transformación realizada.\n",
    "\n",
    "La metodología de estandarización a utilizar es Z-Score, cuya ecuación es:\n",
    "\\begin{align*}\n",
    "    x_N = \\frac{(x - \\mu)}{ \\sigma }\n",
    "\\end{align*}"
   ]
  },
  {
   "cell_type": "code",
   "execution_count": 34,
   "id": "d7951c9b",
   "metadata": {},
   "outputs": [],
   "source": [
    "# Normalización mediante Z-Score para todos los atributos.\n",
    "data1n_ = np.copy( data1_ )\n",
    "data1n_ = StatsArr( data1n_ )\n",
    "data1n_[:,1:] = stats.zscore( data1n_[:,1:], axis = 0 )"
   ]
  },
  {
   "cell_type": "markdown",
   "id": "4d23f8c8",
   "metadata": {},
   "source": [
    "A continuación, se presentan los histogramas de cada atributo normalizado."
   ]
  },
  {
   "cell_type": "code",
   "execution_count": 35,
   "id": "9ed0e09a",
   "metadata": {},
   "outputs": [
    {
     "data": {
      "image/png": "[encoded data removed]",
      "text/plain": [
       "<Figure size 720x144 with 1 Axes>"
      ]
     },
     "metadata": {
      "needs_background": "light"
     },
     "output_type": "display_data"
    },
    {
     "data": {
      "image/png": "[encoded data removed]",
      "text/plain": [
       "<Figure size 720x144 with 1 Axes>"
      ]
     },
     "metadata": {
      "needs_background": "light"
     },
     "output_type": "display_data"
    },
    {
     "data": {
      "image/png": "[encoded data removed]",
      "text/plain": [
       "<Figure size 720x144 with 1 Axes>"
      ]
     },
     "metadata": {
      "needs_background": "light"
     },
     "output_type": "display_data"
    },
    {
     "data": {
      "image/png": "[encoded data removed]",
      "text/plain": [
       "<Figure size 720x144 with 1 Axes>"
      ]
     },
     "metadata": {
      "needs_background": "light"
     },
     "output_type": "display_data"
    }
   ],
   "source": [
    "# Se grafica la distribución de los atributos normalizados\n",
    "histogrmAllAtriSep( data1n_[:, 1:] , varnames[1:] , 'Data Iris de Flores Normalizada' )"
   ]
  },
  {
   "cell_type": "markdown",
   "id": "3391fc2a",
   "metadata": {},
   "source": [
    "Con la normalización, el dominio de los atributos no sobrepasa el rango $[-2.4, 2.4]$. Una vez estandarizados los datos, se procede a implementar los modelos de clasificación."
   ]
  },
  {
   "cell_type": "markdown",
   "id": "7f30f6f1",
   "metadata": {},
   "source": [
    "\\vspace{1cm} \\section{\\bfseries\\scshape\\Large Modelo de redes neuronales}"
   ]
  },
  {
   "cell_type": "markdown",
   "id": "77249a21",
   "metadata": {},
   "source": [
    "En este trabajo se implementarán varios modelos de Perceptrón Multi-Capa (MLP, por sus siglas en inglés. El modelo de red neuronal más simple), todos con una sola capa oculta (hidden layer). Cada modelo presentará variaciones en la capa oculta en términos de número de neuronas y funciones de activación de todas las neuronas.\n",
    "\n",
    "Adicionalmente, se piensa trabajar con dos grupos de inputs:\n",
    "\\begin{itemize}\n",
    "    \\item[$\\bullet$] Data 1: data estandarizada sin cambios.\n",
    "    \\item[$\\bullet$] Data 2: data estandarizada de entrada junto con los correspondientes atributos al cuadrado.\n",
    "\\end{itemize}"
   ]
  },
  {
   "cell_type": "markdown",
   "id": "704ba615",
   "metadata": {},
   "source": [
    "\\vspace{1cm} \\subsection{\\scshape\\large Primer Modelo}"
   ]
  },
  {
   "cell_type": "markdown",
   "id": "f4a71bea",
   "metadata": {},
   "source": [
    "\\begin{itemize}\n",
    "    \\item[$\\bullet$] Data 1, Modelo 1: 70 neuronas en la capa oculta con función de activación 'Relu'.\n",
    "\\end{itemize}"
   ]
  },
  {
   "cell_type": "code",
   "execution_count": 166,
   "id": "ad772572",
   "metadata": {},
   "outputs": [
    {
     "name": "stdout",
     "output_type": "stream",
     "text": [
      "Data Iris de FLores: RSS de cada iteración con los datos de entrenamiento:\n",
      "[2.00000 1.00000 3.00000 2.00000 0.00000]\n",
      "\n",
      "\n",
      "Data Iris de FLores: RSS de cada iteración con los datos de prueba:\n",
      "[1.00000 1.00000 2.00000 0.00000 2.00000]\n",
      "\n",
      "\n",
      "Data Iris de FLores: R^2 de cada iteración con los de entrenamiento:\n",
      "[0.98276 0.99145 0.97436 0.98291 1.00000]\n",
      "\n",
      "\n",
      "Data Iris de FLores: R^2 de cada iteración con los datos de prueba:\n",
      "[0.96667 0.96552 0.93103 1.00000 0.93103]\n",
      "\n",
      "\n"
     ]
    }
   ],
   "source": [
    "# Se instancia el objeto que contendrá los datos del modelo\n",
    "# Problema 1 Data 1 Modelo 1\n",
    "P1D1model1 = ModelsInfo()\n",
    "\n",
    "# Se ejecuta el modelo\n",
    "P1D1model1.RSSent_ , P1D1model1.RSSeva_ , P1D1model1.R2ent_ , P1D1model1.R2eva_ , P1D1model1.model_ = KFoldsCVMLPnn( data1n_, 5, varShuffle = True, randomState = 100, HLayer = (70,), maxIter = 550, actvFn = 'relu' )\n",
    "\n",
    "# Se presentan los resultados del modelo\n",
    "modelErrorPrint( 'Data Iris de FLores', RSSent = P1D1model1.RSSent_ , RSSeva = P1D1model1.RSSeva_ , R2ent = P1D1model1.R2ent_ , R2eva = P1D1model1.R2eva_ )\n"
   ]
  },
  {
   "cell_type": "markdown",
   "id": "1fcbbc45",
   "metadata": {},
   "source": [
    "\\begin{itemize}\n",
    "    \\item[$\\bullet$] Data 1, Modelo 2: 70 neuronas en la capa oculta con función de activación 'Tanh'.\n",
    "\\end{itemize}"
   ]
  },
  {
   "cell_type": "code",
   "execution_count": 167,
   "id": "51b1c6b9",
   "metadata": {},
   "outputs": [
    {
     "name": "stdout",
     "output_type": "stream",
     "text": [
      "Data Iris de FLores: RSS de cada iteración con los datos de entrenamiento:\n",
      "[3.00000 1.00000 4.00000 2.00000 2.00000]\n",
      "\n",
      "\n",
      "Data Iris de FLores: RSS de cada iteración con los datos de prueba:\n",
      "[1.00000 1.00000 1.00000 0.00000 2.00000]\n",
      "\n",
      "\n",
      "Data Iris de FLores: R^2 de cada iteración con los de entrenamiento:\n",
      "[0.97414 0.99145 0.96581 0.98291 0.98291]\n",
      "\n",
      "\n",
      "Data Iris de FLores: R^2 de cada iteración con los datos de prueba:\n",
      "[0.96667 0.96552 0.96552 1.00000 0.93103]\n",
      "\n",
      "\n"
     ]
    }
   ],
   "source": [
    "# Se instancia el objeto que contendrá los datos del modelo\n",
    "# Problema 1 Data 1 Modelo 2\n",
    "P1D1model2 = ModelsInfo()\n",
    "\n",
    "# se ejectuta el modelo\n",
    "P1D1model2.RSSent_ , P1D1model2.RSSeva_ , P1D1model2.R2ent_ , P1D1model2.R2eva_ , P1D1model2.model_ = KFoldsCVMLPnn( data1n_, 5, varShuffle = True, randomState = 100, HLayer = (70,), maxIter = 550, actvFn = 'tanh' )\n",
    "\n",
    "# Se presentan los resultados del modelo\n",
    "modelErrorPrint( 'Data Iris de FLores', RSSent = P1D1model2.RSSent_ , RSSeva = P1D1model2.RSSeva_ , R2ent = P1D1model2.R2ent_ , R2eva = P1D1model2.R2eva_ )\n"
   ]
  },
  {
   "cell_type": "markdown",
   "id": "2ddde662",
   "metadata": {},
   "source": [
    "\\begin{itemize}\n",
    "    \\item[$\\bullet$] Data 1, Modelo 3: 50 neuronas en la capa oculta con función de activación 'Relu'.\n",
    "\\end{itemize}"
   ]
  },
  {
   "cell_type": "code",
   "execution_count": 168,
   "id": "100fb71b",
   "metadata": {},
   "outputs": [
    {
     "name": "stdout",
     "output_type": "stream",
     "text": [
      "Data Iris de FLores: RSS de cada iteración con los datos de entrenamiento:\n",
      "[2.00000 1.00000 3.00000 2.00000 1.00000]\n",
      "\n",
      "\n",
      "Data Iris de FLores: RSS de cada iteración con los datos de prueba:\n",
      "[1.00000 1.00000 2.00000 0.00000 2.00000]\n",
      "\n",
      "\n",
      "Data Iris de FLores: R^2 de cada iteración con los de entrenamiento:\n",
      "[0.98276 0.99145 0.97436 0.98291 0.99145]\n",
      "\n",
      "\n",
      "Data Iris de FLores: R^2 de cada iteración con los datos de prueba:\n",
      "[0.96667 0.96552 0.93103 1.00000 0.93103]\n",
      "\n",
      "\n"
     ]
    }
   ],
   "source": [
    "# Se instancia el objeto que contendrá los datos del modelo\n",
    "# Problema 1 Data 1 Modelo 3\n",
    "P1D1model3 = ModelsInfo()\n",
    "\n",
    "# se ejectuta el modelo\n",
    "P1D1model3.RSSent_ , P1D1model3.RSSeva_ , P1D1model3.R2ent_ , P1D1model3.R2eva_ , P1D1model3.model_ = KFoldsCVMLPnn( data1n_, 5, varShuffle = True, randomState = 100, HLayer = (50,), maxIter = 800, actvFn = 'relu' )\n",
    "\n",
    "# Se presentan los resultados del modelo\n",
    "modelErrorPrint( 'Data Iris de FLores', RSSent = P1D1model3.RSSent_ , RSSeva = P1D1model3.RSSeva_ , R2ent = P1D1model3.R2ent_ , R2eva = P1D1model3.R2eva_ )\n"
   ]
  },
  {
   "cell_type": "markdown",
   "id": "b11872e7",
   "metadata": {},
   "source": [
    "\\begin{itemize}\n",
    "    \\item[$\\bullet$] Data 1, Modelo 4: 50 neuronas en la capa oculta con función de activación 'Tanh'.\n",
    "\\end{itemize}"
   ]
  },
  {
   "cell_type": "code",
   "execution_count": 169,
   "id": "0810bd58",
   "metadata": {},
   "outputs": [
    {
     "name": "stdout",
     "output_type": "stream",
     "text": [
      "Data Iris de FLores: RSS de cada iteración con los datos de entrenamiento:\n",
      "[3.00000 1.00000 4.00000 2.00000 2.00000]\n",
      "\n",
      "\n",
      "Data Iris de FLores: RSS de cada iteración con los datos de prueba:\n",
      "[1.00000 1.00000 1.00000 0.00000 2.00000]\n",
      "\n",
      "\n",
      "Data Iris de FLores: R^2 de cada iteración con los de entrenamiento:\n",
      "[0.97414 0.99145 0.96581 0.98291 0.98291]\n",
      "\n",
      "\n",
      "Data Iris de FLores: R^2 de cada iteración con los datos de prueba:\n",
      "[0.96667 0.96552 0.96552 1.00000 0.93103]\n",
      "\n",
      "\n"
     ]
    }
   ],
   "source": [
    "# Se instancia el objeto que contendrá los datos del modelo\n",
    "# Problema 1 Data 1 Modelo 4\n",
    "P1D1model4 = ModelsInfo()\n",
    "\n",
    "# se ejectuta el modelo\n",
    "P1D1model4.RSSent_ , P1D1model4.RSSeva_ , P1D1model4.R2ent_ , P1D1model4.R2eva_ , P1D1model4.model_ = KFoldsCVMLPnn( data1n_, 5, varShuffle = True, randomState = 100, HLayer = (50,), maxIter = 800, actvFn = 'tanh' )\n",
    "\n",
    "# Se presentan los resultados del modelo\n",
    "modelErrorPrint( 'Data Iris de FLores', RSSent = P1D1model4.RSSent_ , RSSeva = P1D1model4.RSSeva_ , R2ent = P1D1model4.R2ent_ , R2eva = P1D1model4.R2eva_ )\n"
   ]
  },
  {
   "cell_type": "markdown",
   "id": "da3d29e6",
   "metadata": {},
   "source": [
    "\\begin{itemize}\n",
    "    \\item[$\\bullet$] Data 1, Modelo 5: 100 neuronas en la capa oculta con función de activación 'Relu'.\n",
    "\\end{itemize}"
   ]
  },
  {
   "cell_type": "code",
   "execution_count": 170,
   "id": "b008b66c",
   "metadata": {},
   "outputs": [
    {
     "name": "stdout",
     "output_type": "stream",
     "text": [
      "Data Iris de FLores: RSS de cada iteración con los datos de entrenamiento:\n",
      "[2.00000 1.00000 3.00000 2.00000 0.00000]\n",
      "\n",
      "\n",
      "Data Iris de FLores: RSS de cada iteración con los datos de prueba:\n",
      "[1.00000 1.00000 3.00000 0.00000 2.00000]\n",
      "\n",
      "\n",
      "Data Iris de FLores: R^2 de cada iteración con los de entrenamiento:\n",
      "[0.98276 0.99145 0.97436 0.98291 1.00000]\n",
      "\n",
      "\n",
      "Data Iris de FLores: R^2 de cada iteración con los datos de prueba:\n",
      "[0.96667 0.96552 0.89655 1.00000 0.93103]\n",
      "\n",
      "\n"
     ]
    }
   ],
   "source": [
    "# Se instancia el objeto que contendrá los datos del modelo\n",
    "# Problema 1 Data 1 Modelo 5\n",
    "P1D1model5 = ModelsInfo()\n",
    "\n",
    "# se ejectuta el modelo\n",
    "P1D1model5.RSSent_ , P1D1model5.RSSeva_ , P1D1model5.R2ent_ , P1D1model5.R2eva_ , P1D1model5.model_ = KFoldsCVMLPnn( data1n_, 5, varShuffle = True, randomState = 100, HLayer = (100,), maxIter = 510, actvFn = 'relu' )\n",
    "\n",
    "# Se presentan los resultados del modelo\n",
    "modelErrorPrint( 'Data Iris de FLores', RSSent = P1D1model5.RSSent_ , RSSeva = P1D1model5.RSSeva_ , R2ent = P1D1model5.R2ent_ , R2eva = P1D1model5.R2eva_ )\n"
   ]
  },
  {
   "cell_type": "markdown",
   "id": "9841f73a",
   "metadata": {},
   "source": [
    "\\begin{itemize}\n",
    "    \\item[$\\bullet$] Data 1, Modelo 6: 100 neuronas en la capa oculta con función de activación 'Tanh'.\n",
    "\\end{itemize}"
   ]
  },
  {
   "cell_type": "code",
   "execution_count": 171,
   "id": "f595b2cd",
   "metadata": {},
   "outputs": [
    {
     "name": "stdout",
     "output_type": "stream",
     "text": [
      "Data Iris de FLores: RSS de cada iteración con los datos de entrenamiento:\n",
      "[3.00000 1.00000 4.00000 2.00000 2.00000]\n",
      "\n",
      "\n",
      "Data Iris de FLores: RSS de cada iteración con los datos de prueba:\n",
      "[1.00000 1.00000 0.00000 0.00000 2.00000]\n",
      "\n",
      "\n",
      "Data Iris de FLores: R^2 de cada iteración con los de entrenamiento:\n",
      "[0.97414 0.99145 0.96581 0.98291 0.98291]\n",
      "\n",
      "\n",
      "Data Iris de FLores: R^2 de cada iteración con los datos de prueba:\n",
      "[0.96667 0.96552 1.00000 1.00000 0.93103]\n",
      "\n",
      "\n"
     ]
    }
   ],
   "source": [
    "# Se instancia el objeto que contendrá los datos del modelo\n",
    "# Problema 1 Data 1 Modelo 6\n",
    "P1D1model6 = ModelsInfo()\n",
    "\n",
    "# se ejectuta el modelo\n",
    "P1D1model6.RSSent_ , P1D1model6.RSSeva_ , P1D1model6.R2ent_ , P1D1model6.R2eva_ , P1D1model6.model_ = KFoldsCVMLPnn( data1n_, 5, varShuffle = True, randomState = 100, HLayer = (100,), maxIter = 520, actvFn = 'tanh' )\n",
    "\n",
    "# Se presentan los resultados del modelo\n",
    "modelErrorPrint( 'Data Iris de FLores', RSSent = P1D1model6.RSSent_ , RSSeva = P1D1model6.RSSeva_ , R2ent = P1D1model6.R2ent_ , R2eva = P1D1model6.R2eva_ )\n"
   ]
  },
  {
   "cell_type": "markdown",
   "id": "36a365e4",
   "metadata": {},
   "source": [
    "Los 6 modelos anteriores arrojan muy buenos resultados, tanto para el grupo de entrenamiento como para el grupo de prueba o evaluación en cada iteración. De los resultados de la validación cruzada, se podría presumir que el modelo 6 resulta ser el más efectivo ya que logró tener un $R^2$=1 en dos grupos de datos de evaluación. Sin embargo, esta apreciación no es necesariamente cierto.\n",
    "\n",
    "A modo de evaluar todos los modelos de forma más completa, se procede a usar cada uno de los modelos para clasificar toda la data estandarizada."
   ]
  },
  {
   "cell_type": "code",
   "execution_count": 334,
   "id": "bd1ec0b6",
   "metadata": {},
   "outputs": [
    {
     "name": "stdout",
     "output_type": "stream",
     "text": [
      "Data completa Iris de FLores: RSS de cada iteración con los datos de prueba:\n",
      "2.0\n",
      "\n",
      "\n",
      "Data completa Iris de FLores: R^2 de cada iteración con los datos de prueba:\n",
      "0.9863013698630136\n",
      "\n",
      "\n"
     ]
    }
   ],
   "source": [
    "\n",
    "# modelo 1 para toda la data\n",
    "P1D1model1.Out_ = P1D1model1.model_.predict( data1n_[:, 1:] )\n",
    "P1D1model1.RSS_ = RSS( data1n_[:, 0] , P1D1model1.Out_ )\n",
    "P1D1model1.R2_ = P1D1model1.model_.score( data1n_[:, 1:] , data1n_[:, 0] )\n",
    "\n",
    "# presentación de resultados\n",
    "modelErrorPrint( 'Data completa Iris de FLores', RSSeva = P1D1model1.RSS_, R2eva = P1D1model1.R2_ )"
   ]
  },
  {
   "cell_type": "code",
   "execution_count": 183,
   "id": "41321698",
   "metadata": {},
   "outputs": [
    {
     "name": "stdout",
     "output_type": "stream",
     "text": [
      "Data completa Iris de FLores: RSS de cada iteración con los datos de prueba:\n",
      "4.0\n",
      "\n",
      "\n",
      "Data completa Iris de FLores: R^2 de cada iteración con los datos de prueba:\n",
      "0.9726027397260274\n",
      "\n",
      "\n"
     ]
    }
   ],
   "source": [
    "\n",
    "# modelo 2 para toda la data\n",
    "P1D1model2.Out_ = P1D1model2.model_.predict( data1n_[:, 1:] )\n",
    "P1D1model2.RSS_ = RSS( data1n_[:, 0] , P1D1model2.Out_ )\n",
    "P1D1model2.R2_ = P1D1model2.model_.score( data1n_[:, 1:] , data1n_[:, 0] )\n",
    "\n",
    "# presentación de resultados\n",
    "modelErrorPrint( 'Data completa Iris de FLores', RSSeva = P1D1model2.RSS_, R2eva = P1D1model2.R2_ )\n"
   ]
  },
  {
   "cell_type": "code",
   "execution_count": 184,
   "id": "82a64a8b",
   "metadata": {},
   "outputs": [
    {
     "name": "stdout",
     "output_type": "stream",
     "text": [
      "Data completa Iris de FLores: RSS de cada iteración con los datos de prueba:\n",
      "3.0\n",
      "\n",
      "\n",
      "Data completa Iris de FLores: R^2 de cada iteración con los datos de prueba:\n",
      "0.9794520547945206\n",
      "\n",
      "\n"
     ]
    }
   ],
   "source": [
    "\n",
    "# modelo 3 para toda la data\n",
    "P1D1model3.Out_ = P1D1model3.model_.predict( data1n_[:, 1:] )\n",
    "P1D1model3.RSS_ = RSS( data1n_[:, 0] , P1D1model3.Out_ )\n",
    "P1D1model3.R2_ = P1D1model3.model_.score( data1n_[:, 1:] , data1n_[:, 0] )\n",
    "\n",
    "# presentación de resultados\n",
    "modelErrorPrint( 'Data completa Iris de FLores', RSSeva = P1D1model3.RSS_, R2eva = P1D1model3.R2_ )\n"
   ]
  },
  {
   "cell_type": "code",
   "execution_count": 185,
   "id": "aee45e28",
   "metadata": {},
   "outputs": [
    {
     "name": "stdout",
     "output_type": "stream",
     "text": [
      "Data completa Iris de FLores: RSS de cada iteración con los datos de prueba:\n",
      "4.0\n",
      "\n",
      "\n",
      "Data completa Iris de FLores: R^2 de cada iteración con los datos de prueba:\n",
      "0.9726027397260274\n",
      "\n",
      "\n"
     ]
    }
   ],
   "source": [
    "\n",
    "# modelo 4 para toda la data\n",
    "P1D1model4.Out_ = P1D1model4.model_.predict( data1n_[:, 1:] )\n",
    "P1D1model4.RSS_ = RSS( data1n_[:, 0] , P1D1model4.Out_ )\n",
    "P1D1model4.R2_ = P1D1model4.model_.score( data1n_[:, 1:] , data1n_[:, 0] )\n",
    "\n",
    "# presentación de resultados\n",
    "modelErrorPrint( 'Data completa Iris de FLores', RSSeva = P1D1model4.RSS_, R2eva = P1D1model4.R2_ )\n"
   ]
  },
  {
   "cell_type": "code",
   "execution_count": 186,
   "id": "3fce3c6e",
   "metadata": {},
   "outputs": [
    {
     "name": "stdout",
     "output_type": "stream",
     "text": [
      "Data completa Iris de FLores: RSS de cada iteración con los datos de prueba:\n",
      "2.0\n",
      "\n",
      "\n",
      "Data completa Iris de FLores: R^2 de cada iteración con los datos de prueba:\n",
      "0.9863013698630136\n",
      "\n",
      "\n"
     ]
    }
   ],
   "source": [
    "\n",
    "# modelo 5 para toda la data\n",
    "P1D1model5.Out_ = P1D1model5.model_.predict( data1n_[:, 1:] )\n",
    "P1D1model5.RSS_ = RSS( data1n_[:, 0] , P1D1model5.Out_ )\n",
    "P1D1model5.R2_ = P1D1model5.model_.score( data1n_[:, 1:] , data1n_[:, 0] )\n",
    "\n",
    "# presentación de resultados\n",
    "modelErrorPrint( 'Data completa Iris de FLores', RSSeva = P1D1model5.RSS_, R2eva = P1D1model5.R2_ )\n"
   ]
  },
  {
   "cell_type": "code",
   "execution_count": 187,
   "id": "9e7435be",
   "metadata": {
    "scrolled": true
   },
   "outputs": [
    {
     "name": "stdout",
     "output_type": "stream",
     "text": [
      "Data completa Iris de FLores: RSS de cada iteración con los datos de prueba:\n",
      "4.0\n",
      "\n",
      "\n",
      "Data completa Iris de FLores: R^2 de cada iteración con los datos de prueba:\n",
      "0.9726027397260274\n",
      "\n",
      "\n"
     ]
    }
   ],
   "source": [
    "\n",
    "# modelo 6 para toda la data\n",
    "P1D1model6.Out_ = P1D1model6.model_.predict( data1n_[:, 1:] )\n",
    "P1D1model6.RSS_ = RSS( data1n_[:, 0] , P1D1model6.Out_ )\n",
    "P1D1model6.R2_ = P1D1model6.model_.score( data1n_[:, 1:] , data1n_[:, 0] )\n",
    "\n",
    "# presentación de resultados\n",
    "modelErrorPrint( 'Data completa Iris de FLores', RSSeva = P1D1model6.RSS_, R2eva = P1D1model6.R2_ )\n"
   ]
  },
  {
   "cell_type": "markdown",
   "id": "5b5d9fd1",
   "metadata": {},
   "source": [
    "De los resultados arrojados para la data completa, resultan ser los modelos 1 y 5 quienes obtienen la mejor puntuación, con solo 2 muestras clasificados erróneamente. No obstante, el modelo 1 posee 70 neuronas en su capa oculta, mientras que el modelo 5 tiene 100. En este sentido, es pertinente decir que el modelo que mejor se acerca es el modelo 1, ya que requiere menos neuronas en la capa interna para obtener el mismo resultado."
   ]
  },
  {
   "cell_type": "markdown",
   "id": "c24b596f",
   "metadata": {},
   "source": [
    "\\vspace{1cm} \n",
    "\\subsection{\\scshape\\large Segundo Modelo}"
   ]
  },
  {
   "cell_type": "markdown",
   "id": "59d26e3a",
   "metadata": {},
   "source": [
    "\\begin{itemize}\n",
    "    \\item[$\\bullet$] Data 2, Modelo 1: 70 neuronas en la capa oculta con función de activación 'Relu'.\n",
    "\\end{itemize}"
   ]
  },
  {
   "cell_type": "code",
   "execution_count": 189,
   "id": "d77fa9b5",
   "metadata": {},
   "outputs": [],
   "source": [
    "data2aux = np.column_stack( (data1n_, data1n_[:,1:]*data1n_[:,1:]) )"
   ]
  },
  {
   "cell_type": "code",
   "execution_count": 190,
   "id": "0eb94135",
   "metadata": {
    "scrolled": true
   },
   "outputs": [
    {
     "name": "stdout",
     "output_type": "stream",
     "text": [
      "Data Iris de FLores: RSS de cada iteración con los datos de entrenamiento:\n",
      "[2.00000 1.00000 2.00000 2.00000 0.00000]\n",
      "\n",
      "\n",
      "Data Iris de FLores: RSS de cada iteración con los datos de prueba:\n",
      "[1.00000 1.00000 2.00000 4.00000 2.00000]\n",
      "\n",
      "\n",
      "Data Iris de FLores: R^2 de cada iteración con los de entrenamiento:\n",
      "[0.98276 0.99145 0.98291 0.98291 1.00000]\n",
      "\n",
      "\n",
      "Data Iris de FLores: R^2 de cada iteración con los datos de prueba:\n",
      "[0.96667 0.96552 0.93103 0.96552 0.93103]\n",
      "\n",
      "\n"
     ]
    }
   ],
   "source": [
    "# Se instancia el objeto que contendrá los datos del modelo\n",
    "# Problema 1 Data 2 Modelo 1\n",
    "P1D2model1 = ModelsInfo()\n",
    "\n",
    "# se ejectuta el modelo\n",
    "P1D2model1.RSSent_ , P1D2model1.RSSeva_ , P1D2model1.R2ent_ , P1D2model1.R2eva_ , P1D2model1.model_ = KFoldsCVMLPnn( data2aux, 5, varShuffle = True, randomState = 100, HLayer = (70,), maxIter = 550, actvFn = 'relu' )\n",
    "\n",
    "# Se presentan los resultados del modelo\n",
    "modelErrorPrint( 'Data Iris de FLores', RSSent = P1D2model1.RSSent_ , RSSeva = P1D2model1.RSSeva_ , R2ent = P1D2model1.R2ent_ , R2eva = P1D2model1.R2eva_ )\n"
   ]
  },
  {
   "cell_type": "markdown",
   "id": "dd226875",
   "metadata": {},
   "source": [
    "\\begin{itemize}\n",
    "    \\item[$\\bullet$] Data 2, Modelo 2: 70 neuronas en la capa oculta con función de activación 'Tanh'.\n",
    "\\end{itemize}"
   ]
  },
  {
   "cell_type": "code",
   "execution_count": 191,
   "id": "f22d2f20",
   "metadata": {},
   "outputs": [
    {
     "name": "stdout",
     "output_type": "stream",
     "text": [
      "Data Iris de FLores: RSS de cada iteración con los datos de entrenamiento:\n",
      "[2.00000 1.00000 3.00000 2.00000 1.00000]\n",
      "\n",
      "\n",
      "Data Iris de FLores: RSS de cada iteración con los datos de prueba:\n",
      "[1.00000 1.00000 2.00000 0.00000 2.00000]\n",
      "\n",
      "\n",
      "Data Iris de FLores: R^2 de cada iteración con los de entrenamiento:\n",
      "[0.98276 0.99145 0.97436 0.98291 0.99145]\n",
      "\n",
      "\n",
      "Data Iris de FLores: R^2 de cada iteración con los datos de prueba:\n",
      "[0.96667 0.96552 0.93103 1.00000 0.93103]\n",
      "\n",
      "\n"
     ]
    }
   ],
   "source": [
    "# Se instancia el objeto que contendrá los datos del modelo\n",
    "# Problema 1 Data 2 Modelo 2\n",
    "P1D2model2 = ModelsInfo()\n",
    "\n",
    "# se ejectuta el modelo\n",
    "P1D2model2.RSSent_ , P1D2model2.RSSeva_ , P1D2model2.R2ent_ , P1D2model2.R2eva_ , P1D2model2.model_ = KFoldsCVMLPnn( data2aux, 5, varShuffle = True, randomState = 100, HLayer = (70,), maxIter = 550, actvFn = 'tanh' )\n",
    "\n",
    "# Se presentan los resultados del modelo\n",
    "modelErrorPrint( 'Data Iris de FLores', RSSent = P1D2model2.RSSent_ , RSSeva = P1D2model2.RSSeva_ , R2ent = P1D2model2.R2ent_ , R2eva = P1D2model2.R2eva_ )\n"
   ]
  },
  {
   "cell_type": "markdown",
   "id": "e795fa74",
   "metadata": {},
   "source": [
    "\\begin{itemize}\n",
    "    \\item[$\\bullet$] Data 2, Modelo 3: 50 neuronas en la capa oculta con función de activación 'Relu'.\n",
    "\\end{itemize}"
   ]
  },
  {
   "cell_type": "code",
   "execution_count": 192,
   "id": "746a100b",
   "metadata": {},
   "outputs": [
    {
     "name": "stdout",
     "output_type": "stream",
     "text": [
      "Data Iris de FLores: RSS de cada iteración con los datos de entrenamiento:\n",
      "[2.00000 1.00000 3.00000 2.00000 0.00000]\n",
      "\n",
      "\n",
      "Data Iris de FLores: RSS de cada iteración con los datos de prueba:\n",
      "[0.00000 1.00000 2.00000 0.00000 2.00000]\n",
      "\n",
      "\n",
      "Data Iris de FLores: R^2 de cada iteración con los de entrenamiento:\n",
      "[0.98276 0.99145 0.97436 0.98291 1.00000]\n",
      "\n",
      "\n",
      "Data Iris de FLores: R^2 de cada iteración con los datos de prueba:\n",
      "[1.00000 0.96552 0.93103 1.00000 0.93103]\n",
      "\n",
      "\n"
     ]
    }
   ],
   "source": [
    "# Se instancia el objeto que contendrá los datos del modelo\n",
    "# Problema 1 Data 2 Modelo 3\n",
    "P1D2model3 = ModelsInfo()\n",
    "\n",
    "# se ejectuta el modelo\n",
    "P1D2model3.RSSent_ , P1D2model3.RSSeva_ , P1D2model3.R2ent_ , P1D2model3.R2eva_ , P1D2model3.model_ = KFoldsCVMLPnn( data2aux, 5, varShuffle = True, randomState = 100, HLayer = (50,), maxIter = 800, actvFn = 'relu' )\n",
    "\n",
    "# Se presentan los resultados del modelo\n",
    "modelErrorPrint( 'Data Iris de FLores', RSSent = P1D2model3.RSSent_ , RSSeva = P1D2model3.RSSeva_ , R2ent = P1D2model3.R2ent_ , R2eva = P1D2model3.R2eva_ )\n"
   ]
  },
  {
   "cell_type": "markdown",
   "id": "c1b5256a",
   "metadata": {},
   "source": [
    "\\begin{itemize}\n",
    "    \\item[$\\bullet$] Data 2, Modelo 4: 50 neuronas en la capa oculta con función de activación 'Tanh'.\n",
    "\\end{itemize}"
   ]
  },
  {
   "cell_type": "code",
   "execution_count": 193,
   "id": "ba7e1c6a",
   "metadata": {},
   "outputs": [
    {
     "name": "stdout",
     "output_type": "stream",
     "text": [
      "Data Iris de FLores: RSS de cada iteración con los datos de entrenamiento:\n",
      "[2.00000 1.00000 2.00000 2.00000 0.00000]\n",
      "\n",
      "\n",
      "Data Iris de FLores: RSS de cada iteración con los datos de prueba:\n",
      "[1.00000 1.00000 2.00000 0.00000 2.00000]\n",
      "\n",
      "\n",
      "Data Iris de FLores: R^2 de cada iteración con los de entrenamiento:\n",
      "[0.98276 0.99145 0.98291 0.98291 1.00000]\n",
      "\n",
      "\n",
      "Data Iris de FLores: R^2 de cada iteración con los datos de prueba:\n",
      "[0.96667 0.96552 0.93103 1.00000 0.93103]\n",
      "\n",
      "\n"
     ]
    }
   ],
   "source": [
    "# Se instancia el objeto que contendrá los datos del modelo\n",
    "# Problema 1 Data 2 Modelo 4\n",
    "P1D2model4 = ModelsInfo()\n",
    "\n",
    "# se ejectuta el modelo\n",
    "P1D2model4.RSSent_ , P1D2model4.RSSeva_ , P1D2model4.R2ent_ , P1D2model4.R2eva_ , P1D2model4.model_ = KFoldsCVMLPnn( data2aux, 5, varShuffle = True, randomState = 100, HLayer= (50,), maxIter = 800, actvFn = 'tanh' )\n",
    "\n",
    "# Se presentan los resultados del modelo\n",
    "modelErrorPrint( 'Data Iris de FLores', RSSent = P1D2model4.RSSent_ , RSSeva = P1D2model4.RSSeva_ , R2ent = P1D2model4.R2ent_ , R2eva = P1D2model4.R2eva_ )\n"
   ]
  },
  {
   "cell_type": "markdown",
   "id": "6cb6c99c",
   "metadata": {},
   "source": [
    "\\begin{itemize}\n",
    "    \\item[$\\bullet$] Data 2, Modelo 5: 100 neuronas en la capa oculta con función de activación 'Relu'.\n",
    "\\end{itemize}"
   ]
  },
  {
   "cell_type": "code",
   "execution_count": 194,
   "id": "f19b4fe1",
   "metadata": {},
   "outputs": [
    {
     "name": "stdout",
     "output_type": "stream",
     "text": [
      "Data Iris de FLores: RSS de cada iteración con los datos de entrenamiento:\n",
      "[1.00000 1.00000 2.00000 2.00000 0.00000]\n",
      "\n",
      "\n",
      "Data Iris de FLores: RSS de cada iteración con los datos de prueba:\n",
      "[1.00000 1.00000 2.00000 0.00000 2.00000]\n",
      "\n",
      "\n",
      "Data Iris de FLores: R^2 de cada iteración con los de entrenamiento:\n",
      "[0.99138 0.99145 0.98291 0.98291 1.00000]\n",
      "\n",
      "\n",
      "Data Iris de FLores: R^2 de cada iteración con los datos de prueba:\n",
      "[0.96667 0.96552 0.93103 1.00000 0.93103]\n",
      "\n",
      "\n"
     ]
    }
   ],
   "source": [
    "# Se instancia el objeto que contendrá los datos del modelo\n",
    "# Problema 1 Data 2 Modelo 5\n",
    "P1D2model5 = ModelsInfo()\n",
    "\n",
    "# se ejectuta el modelo\n",
    "P1D2model5.RSSent_ , P1D2model5.RSSeva_ , P1D2model5.R2ent_ , P1D2model5.R2eva_ , P1D2model5.model_ = KFoldsCVMLPnn( data2aux, 5, varShuffle = True, randomState = 100, HLayer = (100,), maxIter = 510, actvFn = 'relu' )\n",
    "\n",
    "# Se presentan los resultados del modelo\n",
    "modelErrorPrint( 'Data Iris de FLores', RSSent = P1D2model5.RSSent_ , RSSeva = P1D2model5.RSSeva_ , R2ent = P1D2model5.R2ent_ , R2eva = P1D2model5.R2eva_ )\n"
   ]
  },
  {
   "cell_type": "markdown",
   "id": "e4323c23",
   "metadata": {},
   "source": [
    "\\begin{itemize}\n",
    "    \\item[$\\bullet$] Data 2, Modelo 1: 100 neuronas en la capa oculta con función de activación 'Tanh'.\n",
    "\\end{itemize}"
   ]
  },
  {
   "cell_type": "code",
   "execution_count": 195,
   "id": "5fcaf3ee",
   "metadata": {},
   "outputs": [
    {
     "name": "stdout",
     "output_type": "stream",
     "text": [
      "Data Iris de FLores: RSS de cada iteración con los datos de entrenamiento:\n",
      "[2.00000 1.00000 2.00000 2.00000 0.00000]\n",
      "\n",
      "\n",
      "Data Iris de FLores: RSS de cada iteración con los datos de prueba:\n",
      "[1.00000 1.00000 2.00000 0.00000 2.00000]\n",
      "\n",
      "\n",
      "Data Iris de FLores: R^2 de cada iteración con los de entrenamiento:\n",
      "[0.98276 0.99145 0.98291 0.98291 1.00000]\n",
      "\n",
      "\n",
      "Data Iris de FLores: R^2 de cada iteración con los datos de prueba:\n",
      "[0.96667 0.96552 0.93103 1.00000 0.93103]\n",
      "\n",
      "\n"
     ]
    }
   ],
   "source": [
    "# Se instancia el objeto que contendrá los datos del modelo\n",
    "# Problema 1 Data 2 Modelo 6\n",
    "P1D2model6 = ModelsInfo()\n",
    "\n",
    "# se ejectuta el modelo\n",
    "P1D2model6.RSSent_ , P1D2model6.RSSeva_ , P1D2model6.R2ent_ , P1D2model6.R2eva_ , P1D2model6.model_ = KFoldsCVMLPnn( data2aux, 5, varShuffle = True, randomState = 100, HLayer = (100,), maxIter = 510, actvFn = 'tanh' )\n",
    "\n",
    "# Se presentan los resultados del modelo\n",
    "modelErrorPrint( 'Data Iris de FLores', RSSent = P1D2model6.RSSent_ , RSSeva = P1D2model6.RSSeva_ , R2ent = P1D2model6.R2ent_ , R2eva = P1D2model6.R2eva_ )\n"
   ]
  },
  {
   "cell_type": "markdown",
   "id": "b246a8bd",
   "metadata": {},
   "source": [
    "Al igual que el caso anterior, los resultados arrojados en cada una de las iteraciones de la validación cruzada de cada modelo resulta ser prometedores; pero para determinar cuál modelo se desempeña mejor, se debe evaluar cada modelo con toda la data estandarizada."
   ]
  },
  {
   "cell_type": "code",
   "execution_count": 318,
   "id": "2c5d8ea5",
   "metadata": {},
   "outputs": [
    {
     "name": "stdout",
     "output_type": "stream",
     "text": [
      "Data completa Iris de FLores: RSS de cada iteración con los datos de prueba:\n",
      "2.0\n",
      "\n",
      "\n",
      "Data completa Iris de FLores: R^2 de cada iteración con los datos de prueba:\n",
      "0.9863013698630136\n",
      "\n",
      "\n"
     ]
    }
   ],
   "source": [
    "\n",
    "# modelo 1 para toda la data\n",
    "P1D2model1.Out_ = P1D2model1.model_.predict( data2aux[:,1:] )\n",
    "P1D2model1.RSS_ = RSS( data1n_[:, 0] , P1D2model1.Out_ )\n",
    "P1D2model1.R2_ = P1D2model1.model_.score( data2aux[:,1:] , data1n_[:, 0] )\n",
    "\n",
    "# presentación de resultados\n",
    "modelErrorPrint( 'Data completa Iris de FLores', RSSeva = P1D2model1.RSS_, R2eva = P1D2model1.R2_ )\n"
   ]
  },
  {
   "cell_type": "code",
   "execution_count": 197,
   "id": "314eeb64",
   "metadata": {},
   "outputs": [
    {
     "name": "stdout",
     "output_type": "stream",
     "text": [
      "Data completa Iris de FLores: RSS de cada iteración con los datos de prueba:\n",
      "3.0\n",
      "\n",
      "\n",
      "Data completa Iris de FLores: R^2 de cada iteración con los datos de prueba:\n",
      "0.9794520547945206\n",
      "\n",
      "\n"
     ]
    }
   ],
   "source": [
    "\n",
    "# modelo 2 para toda la data\n",
    "P1D2model2.Out_ = P1D2model2.model_.predict( data2aux[:,1:] )\n",
    "P1D2model2.RSS_ = RSS( data1n_[:, 0] , P1D2model2.Out_ )\n",
    "P1D2model2.R2_ = P1D2model2.model_.score( data2aux[:,1:] , data1n_[:, 0] )\n",
    "\n",
    "# presentación de resultados\n",
    "modelErrorPrint( 'Data completa Iris de FLores', RSSeva = P1D2model2.RSS_, R2eva = P1D2model2.R2_ )\n"
   ]
  },
  {
   "cell_type": "code",
   "execution_count": 198,
   "id": "0f05a504",
   "metadata": {},
   "outputs": [
    {
     "name": "stdout",
     "output_type": "stream",
     "text": [
      "Data completa Iris de FLores: RSS de cada iteración con los datos de prueba:\n",
      "2.0\n",
      "\n",
      "\n",
      "Data completa Iris de FLores: R^2 de cada iteración con los datos de prueba:\n",
      "0.9863013698630136\n",
      "\n",
      "\n"
     ]
    }
   ],
   "source": [
    "\n",
    "# modelo 3 para toda la data\n",
    "P1D2model3.Out_ = P1D2model3.model_.predict( data2aux[:,1:] )\n",
    "P1D2model3.RSS_ = RSS( data1n_[:, 0] , P1D2model3.Out_ )\n",
    "P1D2model3.R2_ = P1D2model3.model_.score( data2aux[:,1:] , data1n_[:, 0] )\n",
    "\n",
    "# presentación de resultados\n",
    "modelErrorPrint( 'Data completa Iris de FLores', RSSeva = P1D2model3.RSS_, R2eva = P1D2model3.R2_ )\n"
   ]
  },
  {
   "cell_type": "code",
   "execution_count": 199,
   "id": "7c62a223",
   "metadata": {},
   "outputs": [
    {
     "name": "stdout",
     "output_type": "stream",
     "text": [
      "Data completa Iris de FLores: RSS de cada iteración con los datos de prueba:\n",
      "2.0\n",
      "\n",
      "\n",
      "Data completa Iris de FLores: R^2 de cada iteración con los datos de prueba:\n",
      "0.9863013698630136\n",
      "\n",
      "\n"
     ]
    }
   ],
   "source": [
    "\n",
    "# modelo 4 para toda la data\n",
    "P1D2model4.Out_ = P1D2model4.model_.predict( data2aux[:,1:] )\n",
    "P1D2model4.RSS_ = RSS( data1n_[:, 0] , P1D2model4.Out_ )\n",
    "P1D2model4.R2_ = P1D2model4.model_.score( data2aux[:,1:] , data1n_[:, 0] )\n",
    "\n",
    "# presentación de resultados\n",
    "modelErrorPrint( 'Data completa Iris de FLores', RSSeva = P1D2model4.RSS_, R2eva = P1D2model4.R2_ )\n"
   ]
  },
  {
   "cell_type": "code",
   "execution_count": 200,
   "id": "db64ef6e",
   "metadata": {},
   "outputs": [
    {
     "name": "stdout",
     "output_type": "stream",
     "text": [
      "Data completa Iris de FLores: RSS de cada iteración con los datos de prueba:\n",
      "2.0\n",
      "\n",
      "\n",
      "Data completa Iris de FLores: R^2 de cada iteración con los datos de prueba:\n",
      "0.9863013698630136\n",
      "\n",
      "\n"
     ]
    }
   ],
   "source": [
    "\n",
    "# modelo 5 para toda la data\n",
    "P1D2model5.Out_ = P1D2model5.model_.predict( data2aux[:,1:] )\n",
    "P1D2model5.RSS_ = RSS( data1n_[:, 0] , P1D2model5.Out_ )\n",
    "P1D2model5.R2_ = P1D2model5.model_.score( data2aux[:,1:] , data1n_[:, 0] )\n",
    "\n",
    "# presentación de resultados\n",
    "modelErrorPrint( 'Data completa Iris de FLores', RSSeva = P1D2model5.RSS_, R2eva = P1D2model5.R2_ )\n"
   ]
  },
  {
   "cell_type": "code",
   "execution_count": 201,
   "id": "fe0ccbbe",
   "metadata": {},
   "outputs": [
    {
     "name": "stdout",
     "output_type": "stream",
     "text": [
      "Data completa Iris de FLores: RSS de cada iteración con los datos de prueba:\n",
      "2.0\n",
      "\n",
      "\n",
      "Data completa Iris de FLores: R^2 de cada iteración con los datos de prueba:\n",
      "0.9863013698630136\n",
      "\n",
      "\n"
     ]
    }
   ],
   "source": [
    "\n",
    "# modelo 6 para toda la data\n",
    "P1D2model6.Out_ = P1D2model6.model_.predict( data2aux[:,1:] )\n",
    "P1D2model6.RSS_ = RSS( data1n_[:, 0] , P1D2model6.Out_ )\n",
    "P1D2model6.R2_ = P1D2model6.model_.score( data2aux[:,1:] , data1n_[:, 0] )\n",
    "\n",
    "# presentación de resultados\n",
    "modelErrorPrint( 'Data completa Iris de FLores', RSSeva = P1D2model6.RSS_, R2eva = P1D2model6.R2_ )\n"
   ]
  },
  {
   "cell_type": "markdown",
   "id": "14e02395",
   "metadata": {},
   "source": [
    "Como se puede apreciar, en este segundo estudio, los modelos 1, 3, 4, 5 y 6 son capaz de tener una precisión suficiente como para solo clasificar mal 2 muestras. Sin embargo, al comparar la configuración de cada red, el modelo 1 posee 70 neuronas en su capa interna, los modelos 3 y 4 poseen 50, y los modelos 5 y 6 poseen 100 neuronas. Por otro lado, los modelos 1, 3 y 5 posee como función de activación de las neuronas de la capa oculta la función 'Relu', mientras que los modelos 4 y 6 usan la función 'Tanh'.\n",
    "\n",
    "Como criterio de decisión, se considera la complejidad computacional como factor determinante para la selección de un modelo. Con base en lo antes mencionado, el mejor modelo de este segundo caso resulta ser el modelo 3, ya que solo posee 50 neuronas en su capa interna y la función de activación de todas esas neuronas es la función 'Relu', que es más simple que la función 'Tanh'."
   ]
  },
  {
   "cell_type": "markdown",
   "id": "90c04c61",
   "metadata": {},
   "source": [
    "De los dos grupos de modelos, el modelo 3 del segundo resulta ser la solución ideal. Si bien requiere más entradas que el modelo 5 del primero grupo, requiere la mitad de las neuronas en la capa interna, lo que reduce considerablemente el costo computacional por iteración (más del costo asociado a tener 4 entradas más, equivalente al doble de entradas del primer grupo de modelos)."
   ]
  },
  {
   "cell_type": "markdown",
   "id": "5cb7b6fd",
   "metadata": {},
   "source": [
    "\\newpage"
   ]
  },
  {
   "cell_type": "markdown",
   "id": "cbf48028",
   "metadata": {},
   "source": [
    "\\vspace{1cm} \\section{\\bfseries\\scshape\\Large Problema 2: Data oreja de mar (Abalone)}"
   ]
  },
  {
   "cell_type": "markdown",
   "id": "8d906ba4",
   "metadata": {},
   "source": [
    "Ahora, se repetirá la experiencia para la data de Abalone (usada en experiencias anteriores) y se procederá a estimar la edad mediante una regresión lineal y mediante una red neuronal a fin de comparar los resultados de ambos modelos."
   ]
  },
  {
   "cell_type": "markdown",
   "id": "959c0fba",
   "metadata": {},
   "source": [
    "\\vspace{1cm} \n",
    "\\subsection{\\scshape\\large Información de la data}"
   ]
  },
  {
   "cell_type": "code",
   "execution_count": 222,
   "id": "603d7495",
   "metadata": {},
   "outputs": [
    {
     "name": "stdout",
     "output_type": "stream",
     "text": [
      "Tamaño de la data Data Abalone\n",
      "Cantidad de muestras:  4177\n",
      "Número de Atriutos de cada muestra:  9\n"
     ]
    }
   ],
   "source": [
    "# Se carga la data\n",
    "data2 = np.loadtxt(\"abalone.data\", dtype = str, delimiter =\",\")\n",
    "printDataInfo(data2, 'Data Abalone')"
   ]
  },
  {
   "cell_type": "markdown",
   "id": "13794f32",
   "metadata": {},
   "source": [
    "Según la información suministrada, los atributos de esta base de datos son:\n",
    "\\begin{enumerate}\n",
    "    \\item Sex: $\\quad$ nominal $[M, F, I]$\n",
    "    \\item Length: $\\quad$ continuous $[mm]$\n",
    "    \\item Diameter: $\\quad$ continuous $[mm]$\n",
    "    \\item Height: $\\quad$ continuous $[mm]$\n",
    "    \\item Whole weight: $\\quad$ continuous $[mm]$\n",
    "    \\item Shucked weight: $\\quad$ continuous $[mm]$\n",
    "    \\item Viscera weight: $\\quad$ continuous $[mm]$\n",
    "    \\item Shell weight: $\\quad$ continuous $[mm]$\n",
    "    \\item Right: $\\quad$ Integer (+1.5 gives the age in years)\n",
    "\\end{enumerate}\n"
   ]
  },
  {
   "cell_type": "markdown",
   "id": "25d1abf0",
   "metadata": {},
   "source": [
    "El estudio estadístico y análisis de diferentes transformaciones, sustracción de datos y estandarización fueron realizados en un estudio anterior. En esta ocasión, se desea comparar el resultado de la regresión lineal con el de una red neuronal artificial, por lo que se efectuará directamente los procesos de extracción de valores atípicos, transformación con la transformada de mejor resultado y estandarización directamente."
   ]
  },
  {
   "cell_type": "markdown",
   "id": "939a942b",
   "metadata": {},
   "source": [
    "\\vspace{1cm} \n",
    "\\subsection{\\scshape\\large Procesamiento de la data}"
   ]
  },
  {
   "cell_type": "code",
   "execution_count": 223,
   "id": "73710a3c",
   "metadata": {},
   "outputs": [],
   "source": [
    "# Se transforma la columna de clasificación en binario\n",
    "data2[ data2[ : , 0 ] == 'M' , 0 ] = 1\n",
    "data2[ data2[ : , 0 ] == 'F' , 0 ] = 2\n",
    "data2[ data2[ : , 0 ] == 'I' , 0 ] = 3\n",
    "\n",
    "# Se convierte la data de String a Float\n",
    "data2 = data2.astype(float)\n",
    "\n",
    "# Se coloca la columna de clasificación en la primera posición\n",
    "data2 = np.column_stack( (data2[:,-1], data2[:, :-1]) )\n",
    "\n",
    "# Se instacia la data en un objeto para darle atributos adicionales al arreglo\n",
    "data2_ = StatsArr( data2 )"
   ]
  },
  {
   "cell_type": "code",
   "execution_count": 225,
   "id": "300132e8",
   "metadata": {},
   "outputs": [],
   "source": [
    "data2b = AtipValueRemv( data2_ )\n",
    "data2b_ = StatsArr( data2b )"
   ]
  },
  {
   "cell_type": "code",
   "execution_count": 226,
   "id": "e03eea9f",
   "metadata": {},
   "outputs": [],
   "source": [
    "data2b_.TransfType = 'Box-Cox Transform'\n",
    "data2b_[:,2:], data2b_.Lambdas_ = boxcox_transform( data2b_[:,2:] )"
   ]
  },
  {
   "cell_type": "code",
   "execution_count": 228,
   "id": "805c72c2",
   "metadata": {},
   "outputs": [],
   "source": [
    "# Normalización mediante Z-Score para todos los atributos.\n",
    "data2n = np.copy( datab2_ )\n",
    "data2n_ = StatsArr( data2n )\n",
    "data2n_[:,2:] = stats.zscore( data2n_[:,2:], axis = 0 )"
   ]
  },
  {
   "cell_type": "markdown",
   "id": "2f1d1ae8",
   "metadata": {},
   "source": [
    "\\vspace{1cm} \n",
    "\\subsection{\\scshape\\large Desarrollo del modelo}"
   ]
  },
  {
   "cell_type": "markdown",
   "id": "36a0d09f",
   "metadata": {},
   "source": [
    "Para este caso, se consideran dos posibles grupos de datos de entrada:\n",
    "\\begin{itemize}\n",
    "    \\item[$\\bullet$] Data 1: data estandarizada sin cambios.\n",
    "    \\item[$\\bullet$] Data 2: data estandarizada de entrada junto con los correspondientes atributos al cuadrado.\n",
    "\\end{itemize}"
   ]
  },
  {
   "cell_type": "markdown",
   "id": "561cbb85",
   "metadata": {},
   "source": [
    "\\vspace{1cm} \n",
    "\\subsubsection{\\scshape\\large Modelo de Regresión Lineal}"
   ]
  },
  {
   "cell_type": "markdown",
   "id": "d9a24e09",
   "metadata": {},
   "source": [
    "A continuación, se presentan los modelos de regresión lineal usados para los dos grupos de data."
   ]
  },
  {
   "cell_type": "code",
   "execution_count": 284,
   "id": "dcf53214",
   "metadata": {},
   "outputs": [],
   "source": [
    "data2naux = np.column_stack( (data2n_, data2n_[:,1:]*data2n_[:,1:]) )"
   ]
  },
  {
   "cell_type": "code",
   "execution_count": 344,
   "id": "f92720d3",
   "metadata": {},
   "outputs": [
    {
     "name": "stdout",
     "output_type": "stream",
     "text": [
      "Data Abalone: RSS de cada iteración con los datos de entrenamiento:\n",
      "10123.807151659408\n",
      "\n",
      "\n",
      "Data Abalone: RSS de cada iteración con los datos de prueba:\n",
      "10125.481757798472\n",
      "\n",
      "\n",
      "Data Abalone: R^2 de cada iteración con los de entrenamiento:\n",
      "0.5382513469765979\n",
      "\n",
      "\n",
      "Data Abalone: R^2 de cada iteración con los datos de prueba:\n",
      "0.5287330177275\n",
      "\n",
      "\n"
     ]
    }
   ],
   "source": [
    "# instanciación del modelo\n",
    "P2D1model1 = ModelsInfo()\n",
    "\n",
    "# Modelo de regresión lineal\n",
    "P2D1model1.RSSent_ , P2D1model1.RSSeva_ , P2D1model1.R2ent_ , P2D1model1.R2eva_ , P2D1model1.model_ = LinearRegrDSplit( data2n_, 0.5, varShuffle = True, randomState = 100 )\n",
    "\n",
    "# Se presentan los resultados del modelo\n",
    "modelErrorPrint( 'Data Abalone', RSSent = P2D1model1.RSSent_ , RSSeva = P2D1model1.RSSeva_ , R2ent = P2D1model1.R2ent_ , R2eva = P2D1model1.R2eva_ )\n"
   ]
  },
  {
   "cell_type": "code",
   "execution_count": 300,
   "id": "609556e6",
   "metadata": {},
   "outputs": [
    {
     "name": "stdout",
     "output_type": "stream",
     "text": [
      "Data completa Abalone: RSS de cada iteración con los datos de prueba:\n",
      "20249.28890945788\n",
      "\n",
      "\n",
      "Data completa Abalone: R^2 de cada iteración con los datos de prueba:\n",
      "0.5335407794959104\n",
      "\n",
      "\n"
     ]
    }
   ],
   "source": [
    "# Evaluación del modelo para toda la data\n",
    "modelEvalPredict( P2D1model1, data2n_, 'Data completa Abalone' )"
   ]
  },
  {
   "cell_type": "code",
   "execution_count": 292,
   "id": "a8aa9382",
   "metadata": {},
   "outputs": [
    {
     "name": "stdout",
     "output_type": "stream",
     "text": [
      "Data Iris de FLores: RSS de cada iteración con los datos de entrenamiento:\n",
      "9352.203075209549\n",
      "\n",
      "\n",
      "Data Iris de FLores: RSS de cada iteración con los datos de prueba:\n",
      "9367.35006750594\n",
      "\n",
      "\n",
      "Data Iris de FLores: R^2 de cada iteración con los de entrenamiento:\n",
      "0.5734443467671648\n",
      "\n",
      "\n",
      "Data Iris de FLores: R^2 de cada iteración con los datos de prueba:\n",
      "0.5640184927691332\n",
      "\n",
      "\n"
     ]
    }
   ],
   "source": [
    "# instanciación del modelo\n",
    "P2D2model1 = ModelsInfo()\n",
    "\n",
    "# Modelo de regresión lineal\n",
    "P2D2model1.RSSent_ , P2D2model1.RSSeva_ , P2D2model1.R2ent_ , P2D2model1.R2eva_ , P2D2model1.model_ = LinearRegrDSplit( data2naux, 0.5, varShuffle = True, randomState = 100 )\n",
    "\n",
    "# Se presentan los resultados del modelo\n",
    "modelErrorPrint( 'Data Abalone', RSSent = P2D2model1.RSSent_ , RSSeva = P2D2model1.RSSeva_ , R2ent = P2D2model1.R2ent_ , R2eva = P2D2model1.R2eva_ )\n"
   ]
  },
  {
   "cell_type": "code",
   "execution_count": 299,
   "id": "288d4ef2",
   "metadata": {},
   "outputs": [
    {
     "name": "stdout",
     "output_type": "stream",
     "text": [
      "Data completa Abalone: RSS de cada iteración con los datos de prueba:\n",
      "18719.553142715486\n",
      "\n",
      "\n",
      "Data completa Abalone: R^2 de cada iteración con los datos de prueba:\n",
      "0.5687795158546276\n",
      "\n",
      "\n"
     ]
    }
   ],
   "source": [
    "# Evaluación del modelo para toda la data\n",
    "modelEvalPredict( P2D2model1, data2naux, 'Data completa Abalone' )"
   ]
  },
  {
   "cell_type": "markdown",
   "id": "1bf5e95a",
   "metadata": {},
   "source": [
    "De los resultados obtenidos mediante la regresión lineal, el incluir los atributos al cuadrado junto con los atributos como inputs permitió obtener una mejora en los resultados, a pesar de ser pequeña (del orden de $4e^{-2}$). Esta mejora no resulta ser relevante respecto a la configuración inicial de la data para las entradas del modelo de regresión lineal."
   ]
  },
  {
   "cell_type": "markdown",
   "id": "59044d69",
   "metadata": {},
   "source": [
    "\\vspace{1cm} \n",
    "\\subsubsection{\\scshape\\large Modelo de Redes Neuronales}"
   ]
  },
  {
   "cell_type": "markdown",
   "id": "cbd2b6c9",
   "metadata": {},
   "source": [
    "Para este conjunto de datos, se presentan diferentes modelos de redes neuronales para los diferentes grupos de datos a usar.\n",
    "\n",
    "Para el primer grupo de datos:"
   ]
  },
  {
   "cell_type": "code",
   "execution_count": 301,
   "id": "676b39f9",
   "metadata": {},
   "outputs": [
    {
     "name": "stdout",
     "output_type": "stream",
     "text": [
      "Data Abalone: RSS de cada iteración con los datos de entrenamiento:\n",
      "8067.0\n",
      "\n",
      "\n",
      "Data Abalone: RSS de cada iteración con los datos de prueba:\n",
      "13590.0\n",
      "\n",
      "\n",
      "Data Abalone: R^2 de cada iteración con los de entrenamiento:\n",
      "0.47844827586206895\n",
      "\n",
      "\n",
      "Data Abalone: R^2 de cada iteración con los datos de prueba:\n",
      "0.24030636668262326\n",
      "\n",
      "\n"
     ]
    }
   ],
   "source": [
    "# Se instancia el objeto que contendrá los datos del modelo\n",
    "# Problema 1 Data 1 Modelo 1\n",
    "P2D1model2 = ModelsInfo()\n",
    "\n",
    "# Se ejecuta el modelo\n",
    "P2D1model2.RSSent_ , P2D1model2.RSSeva_ , P2D1model2.R2ent_ , P2D1model2.R2eva_ , P2D1model2.model_ = MLPnnDSplit( data2n_, 0.5, varShuffle = True, randomState = 100, HLayer = (120, 90, 80), maxIter = 1000, actvFn = 'relu' )\n",
    "\n",
    "# Se presentan los resultados del modelo\n",
    "modelErrorPrint( 'Data Abalone', RSSent = P2D1model2.RSSent_ , RSSeva = P2D1model2.RSSeva_ , R2ent = P2D1model2.R2ent_ , R2eva = P2D1model2.R2eva_ )\n"
   ]
  },
  {
   "cell_type": "code",
   "execution_count": 303,
   "id": "ddf6a7eb",
   "metadata": {},
   "outputs": [
    {
     "name": "stdout",
     "output_type": "stream",
     "text": [
      "Data completa Abalone: RSS de cada iteración con los datos de prueba:\n",
      "21657.0\n",
      "\n",
      "\n",
      "Data completa Abalone: R^2 de cada iteración con los datos de prueba:\n",
      "0.3593488149389514\n",
      "\n",
      "\n"
     ]
    }
   ],
   "source": [
    "# Evaluación del modelo para toda la data\n",
    "modelEvalPredict( P2D1model2, data2n_, 'Data completa Abalone' )"
   ]
  },
  {
   "cell_type": "code",
   "execution_count": 302,
   "id": "a23763bb",
   "metadata": {},
   "outputs": [
    {
     "name": "stdout",
     "output_type": "stream",
     "text": [
      "Data Abalone: RSS de cada iteración con los datos de entrenamiento:\n",
      "310.0\n",
      "\n",
      "\n",
      "Data Abalone: RSS de cada iteración con los datos de prueba:\n",
      "16200.0\n",
      "\n",
      "\n",
      "Data Abalone: R^2 de cada iteración con los de entrenamiento:\n",
      "0.9626436781609196\n",
      "\n",
      "\n",
      "Data Abalone: R^2 de cada iteración con los datos de prueba:\n",
      "0.21206318812829106\n",
      "\n",
      "\n"
     ]
    }
   ],
   "source": [
    "# Se instancia el objeto que contendrá los datos del modelo\n",
    "# Problema 1 Data 1 Modelo 1\n",
    "P2D1model3 = ModelsInfo()\n",
    "\n",
    "# Se ejecuta el modelo\n",
    "P2D1model3.RSSent_ , P2D1model3.RSSeva_ , P2D1model3.R2ent_ , P2D1model3.R2eva_ , P2D1model3.model_ = MLPnnDSplit( data2n_, 0.5, varShuffle = True, randomState = 100, HLayer = (100, 80, 60), maxIter = 2000, actvFn = 'tanh' )\n",
    "\n",
    "# Se presentan los resultados del modelo\n",
    "modelErrorPrint( 'Data Abalone', RSSent = P2D1model3.RSSent_ , RSSeva = P2D1model3.RSSeva_ , R2ent = P2D1model3.R2ent_ , R2eva = P2D1model3.R2eva_ )\n"
   ]
  },
  {
   "cell_type": "code",
   "execution_count": 304,
   "id": "d455886d",
   "metadata": {},
   "outputs": [
    {
     "name": "stdout",
     "output_type": "stream",
     "text": [
      "Data completa Abalone: RSS de cada iteración con los datos de prueba:\n",
      "16510.0\n",
      "\n",
      "\n",
      "Data completa Abalone: R^2 de cada iteración con los datos de prueba:\n",
      "0.5872635863059612\n",
      "\n",
      "\n"
     ]
    }
   ],
   "source": [
    "# Evaluación del modelo para toda la data\n",
    "modelEvalPredict( P2D1model3, data2n_, 'Data completa Abalone' )"
   ]
  },
  {
   "cell_type": "code",
   "execution_count": 305,
   "id": "05c37c74",
   "metadata": {},
   "outputs": [
    {
     "name": "stdout",
     "output_type": "stream",
     "text": [
      "Data Abalone: RSS de cada iteración con los datos de entrenamiento:\n",
      "11647.0\n",
      "\n",
      "\n",
      "Data Abalone: RSS de cada iteración con los datos de prueba:\n",
      "11737.0\n",
      "\n",
      "\n",
      "Data Abalone: R^2 de cada iteración con los de entrenamiento:\n",
      "0.27873563218390807\n",
      "\n",
      "\n",
      "Data Abalone: R^2 de cada iteración con los datos de prueba:\n",
      "0.2843465773097176\n",
      "\n",
      "\n"
     ]
    }
   ],
   "source": [
    "# Se instancia el objeto que contendrá los datos del modelo\n",
    "# Problema 1 Data 1 Modelo 1\n",
    "P2D1model4 = ModelsInfo()\n",
    "\n",
    "# Se ejecuta el modelo\n",
    "P2D1model4.RSSent_ , P2D1model4.RSSeva_ , P2D1model4.R2ent_ , P2D1model4.R2eva_ , P2D1model4.model_ = MLPnnDSplit( data2n_, 0.5, varShuffle = True, randomState = 100, HLayer = (120, 90, 80), maxIter = 1000, actvFn = 'logistic' )\n",
    "\n",
    "# Se presentan los resultados del modelo\n",
    "modelErrorPrint( 'Data Abalone', RSSent = P2D1model4.RSSent_ , RSSeva = P2D1model4.RSSeva_ , R2ent = P2D1model4.R2ent_ , R2eva = P2D1model4.R2eva_ )\n"
   ]
  },
  {
   "cell_type": "code",
   "execution_count": 306,
   "id": "a1ffd3d3",
   "metadata": {},
   "outputs": [
    {
     "name": "stdout",
     "output_type": "stream",
     "text": [
      "Data completa Abalone: RSS de cada iteración con los datos de prueba:\n",
      "23384.0\n",
      "\n",
      "\n",
      "Data completa Abalone: R^2 de cada iteración con los datos de prueba:\n",
      "0.28154177639454153\n",
      "\n",
      "\n"
     ]
    }
   ],
   "source": [
    "# Evaluación del modelo para toda la data\n",
    "modelEvalPredict( P2D1model4, data2n_, 'Data completa Abalone' )"
   ]
  },
  {
   "cell_type": "markdown",
   "id": "ba1f846b",
   "metadata": {},
   "source": [
    "Ahora, los modelos usados para el segundo grupo de datos:"
   ]
  },
  {
   "cell_type": "code",
   "execution_count": 307,
   "id": "8fd25878",
   "metadata": {},
   "outputs": [
    {
     "name": "stdout",
     "output_type": "stream",
     "text": [
      "Data Abalone: RSS de cada iteración con los datos de entrenamiento:\n",
      "5287.0\n",
      "\n",
      "\n",
      "Data Abalone: RSS de cada iteración con los datos de prueba:\n",
      "14373.0\n",
      "\n",
      "\n",
      "Data Abalone: R^2 de cada iteración con los de entrenamiento:\n",
      "0.6149425287356322\n",
      "\n",
      "\n",
      "Data Abalone: R^2 de cada iteración con los datos de prueba:\n",
      "0.22498803255146002\n",
      "\n",
      "\n"
     ]
    }
   ],
   "source": [
    "# Se instancia el objeto que contendrá los datos del modelo\n",
    "# Problema 1 Data 1 Modelo 1\n",
    "P2D2model2 = ModelsInfo()\n",
    "\n",
    "# Se ejecuta el modelo\n",
    "P2D2model2.RSSent_ , P2D2model2.RSSeva_ , P2D2model2.R2ent_ , P2D2model2.R2eva_ , P2D2model2.model_ = MLPnnDSplit( data2naux, 0.5, varShuffle = True, randomState = 100, HLayer = (120, 90, 80), maxIter = 1000, actvFn = 'relu' )\n",
    "\n",
    "# Se presentan los resultados del modelo\n",
    "modelErrorPrint( 'Data Abalone', RSSent = P2D2model2.RSSent_ , RSSeva = P2D2model2.RSSeva_ , R2ent = P2D2model2.R2ent_ , R2eva = P2D2model2.R2eva_ )\n"
   ]
  },
  {
   "cell_type": "code",
   "execution_count": 308,
   "id": "e70792f5",
   "metadata": {},
   "outputs": [
    {
     "name": "stdout",
     "output_type": "stream",
     "text": [
      "Data completa Abalone: RSS de cada iteración con los datos de prueba:\n",
      "19660.0\n",
      "\n",
      "\n",
      "Data completa Abalone: R^2 de cada iteración con los datos de prueba:\n",
      "0.4199186018673689\n",
      "\n",
      "\n"
     ]
    }
   ],
   "source": [
    "# Evaluación del modelo para toda la data\n",
    "modelEvalPredict( P2D2model2, data2naux, 'Data completa Abalone' )"
   ]
  },
  {
   "cell_type": "code",
   "execution_count": 336,
   "id": "81c1e50d",
   "metadata": {},
   "outputs": [
    {
     "name": "stdout",
     "output_type": "stream",
     "text": [
      "Data Abalone: RSS de cada iteración con los datos de entrenamiento:\n",
      "24.0\n",
      "\n",
      "\n",
      "Data Abalone: RSS de cada iteración con los datos de prueba:\n",
      "17660.0\n",
      "\n",
      "\n",
      "Data Abalone: R^2 de cada iteración con los de entrenamiento:\n",
      "0.9971264367816092\n",
      "\n",
      "\n",
      "Data Abalone: R^2 de cada iteración con los datos de prueba:\n",
      "0.21685016754427955\n",
      "\n",
      "\n"
     ]
    }
   ],
   "source": [
    "# Se instancia el objeto que contendrá los datos del modelo\n",
    "# Problema 1 Data 1 Modelo 1\n",
    "P2D2model3 = ModelsInfo()\n",
    "\n",
    "# Se ejecuta el modelo\n",
    "P2D2model3.RSSent_ , P2D2model3.RSSeva_ , P2D2model3.R2ent_ , P2D2model3.R2eva_ , P2D2model3.model_ = MLPnnDSplit( data2naux, 0.5, varShuffle = True, randomState = 100, HLayer = (100, 80, 60), maxIter = 2000, actvFn = 'tanh' )\n",
    "\n",
    "# Se presentan los resultados del modelo\n",
    "modelErrorPrint( 'Data Abalone', RSSent = P2D2model3.RSSent_ , RSSeva = P2D2model3.RSSeva_ , R2ent = P2D2model3.R2ent_ , R2eva = P2D2model3.R2eva_ )\n"
   ]
  },
  {
   "cell_type": "code",
   "execution_count": 310,
   "id": "40ffdc21",
   "metadata": {},
   "outputs": [
    {
     "name": "stdout",
     "output_type": "stream",
     "text": [
      "Data completa Abalone: RSS de cada iteración con los datos de prueba:\n",
      "17684.0\n",
      "\n",
      "\n",
      "Data completa Abalone: R^2 de cada iteración con los datos de prueba:\n",
      "0.606894900646397\n",
      "\n",
      "\n"
     ]
    }
   ],
   "source": [
    "# Evaluación del modelo para toda la data\n",
    "modelEvalPredict( P2D2model3, data2naux, 'Data completa Abalone' )"
   ]
  },
  {
   "cell_type": "code",
   "execution_count": 311,
   "id": "1f606dc0",
   "metadata": {},
   "outputs": [
    {
     "name": "stdout",
     "output_type": "stream",
     "text": [
      "Data Abalone: RSS de cada iteración con los datos de entrenamiento:\n",
      "10936.0\n",
      "\n",
      "\n",
      "Data Abalone: RSS de cada iteración con los datos de prueba:\n",
      "11582.0\n",
      "\n",
      "\n",
      "Data Abalone: R^2 de cada iteración con los de entrenamiento:\n",
      "0.29310344827586204\n",
      "\n",
      "\n",
      "Data Abalone: R^2 de cada iteración con los datos de prueba:\n",
      "0.28769746290090953\n",
      "\n",
      "\n"
     ]
    }
   ],
   "source": [
    "# Se instancia el objeto que contendrá los datos del modelo\n",
    "# Problema 1 Data 1 Modelo 1\n",
    "P2D2model4 = ModelsInfo()\n",
    "\n",
    "# Se ejecuta el modelo\n",
    "P2D2model4.RSSent_ , P2D2model4.RSSeva_ , P2D2model4.R2ent_ , P2D2model4.R2eva_ , P2D2model4.model_ = MLPnnDSplit( data2naux, 0.5, varShuffle = True, randomState = 100, HLayer = (120, 90, 80), maxIter = 1000, actvFn = 'logistic' )\n",
    "\n",
    "# Se presentan los resultados del modelo\n",
    "modelErrorPrint( 'Data Abalone', RSSent = P2D2model4.RSSent_ , RSSeva = P2D2model4.RSSeva_ , R2ent = P2D2model4.R2ent_ , R2eva = P2D2model4.R2eva_ )\n"
   ]
  },
  {
   "cell_type": "code",
   "execution_count": 314,
   "id": "2f9a744a",
   "metadata": {},
   "outputs": [
    {
     "name": "stdout",
     "output_type": "stream",
     "text": [
      "Data completa Abalone: RSS de cada iteración con los datos de prueba:\n",
      "22518.0\n",
      "\n",
      "\n",
      "Data completa Abalone: R^2 de cada iteración con los datos de prueba:\n",
      "0.29039980847498204\n",
      "\n",
      "\n"
     ]
    }
   ],
   "source": [
    "# Evaluación del modelo para toda la data\n",
    "modelEvalPredict( P2D2model4, data2naux, 'Data completa Abalone' )"
   ]
  },
  {
   "cell_type": "markdown",
   "id": "75756902",
   "metadata": {},
   "source": [
    "De los resultados arrojados en las diferentes experiencias para los dos grupos de data de entreda, se apreciar que el modelo de red neuronal de 3 capas ocultas con 100 neuronas en la primera, 80 en la segunda y 60 en la tercera, todas con función de activación 'Tanh', resulta poder arrojar mejores resultados que los modelos de regresión lineal en cada grupo de datos (una mejora del orden de aproximadamente 0.05 con el primer grupo de datos y de 0.04 con el segundo grupo). Los modelos que implementaron funciones de activación 'Relu' y 'Logistic' no fueron capaces de obtener resultados satisfactorios para configuraciones similares.\n",
    "\n",
    "Otro punto interesante a mencionar es lo proporcional de la mejora en precisión del modelo de redes neuronales al introducir los atributos de entrada al cuadrado como entradas adicionales, que resulta ser similar a la mejora presentada en el modelo de regresión lineal (aproximadamente del orden de $4e^{^-2}$), que pudiera no ser tan significativa para la complejidad adicional introducida en el modelo.\n",
    "\n",
    "Es importante mencionar que, si bien se obtiene una mejora y, de seguir incrementando la cantidad de neuronas por capas ocultas y la cantidad de capas ocultas, se obtendrán mejores resultados; esto incrementa el costo computacional del modelo fuertemente. Todos los modelos de red neuronal usados (los exitosos y los fallidos) tardan en arrojar su respuesta, mientras que el modelo de regresión lineal es mucho más rápido. Esto resulta crucial al momento de implementar un modelo."
   ]
  },
  {
   "cell_type": "code",
   "execution_count": null,
   "id": "edc78fe2",
   "metadata": {},
   "outputs": [],
   "source": []
  },
  {
   "cell_type": "markdown",
   "id": "78ec34dc",
   "metadata": {},
   "source": [
    "\\newpage"
   ]
  },
  {
   "cell_type": "markdown",
   "id": "82b6c5c1",
   "metadata": {},
   "source": [
    "\\vspace{1cm} \\section{\\bfseries\\scshape\\Large Problema 3: Data cáncer de mama (breast cancer)}"
   ]
  },
  {
   "cell_type": "markdown",
   "id": "de5ed70d",
   "metadata": {},
   "source": [
    "A continuación, se realiza el procedimiento de estimación con la base de datos de cáncer de mama (breast cancer).\n",
    "\n",
    "En esta experiencia se repite lo realizado en trabajos anteriores para obtener una regresión logística capaz de estimar cuándo el diagnóstico debería ser Maligno o Benigno. Posteriormente, se genera un modelo de redes neuronales capaz de realizar esta tarea y se compara su desempeño con el modelo de regresión logística."
   ]
  },
  {
   "cell_type": "markdown",
   "id": "d4039d6d",
   "metadata": {},
   "source": [
    "\\vspace{1cm} \\subsection{\\scshape\\large Información de la data}"
   ]
  },
  {
   "cell_type": "code",
   "execution_count": 338,
   "id": "566b9a30",
   "metadata": {},
   "outputs": [
    {
     "name": "stdout",
     "output_type": "stream",
     "text": [
      "Tamaño de la data Data Abalone\n",
      "Cantidad de muestras:  569\n",
      "Número de Atriutos de cada muestra:  32\n"
     ]
    }
   ],
   "source": [
    "# Se carga la data\n",
    "data3 = np.loadtxt(\"wdbc.data\", dtype = str, delimiter =\",\")\n",
    "printDataInfo(data3, 'Data Abalone')"
   ]
  },
  {
   "cell_type": "markdown",
   "id": "3ceb3b9a",
   "metadata": {},
   "source": [
    "De acuerdo con la información suministrada en la base de datos, los atributos de cada una de las 32 columnas que la componen corresponden a:\n",
    "\\begin{itemize}\n",
    "    \\item[$1$] número de identificación\n",
    "    \\item[$2$] Diagnóstico (M = maligno, B = benigno)\n",
    "    \\item[$3-32$] Se calculan diez características de valor real para cada núcleo celular:\n",
    "    \\begin{enumerate}[label=\\alph*)]\n",
    "        \\item Radio (media de las distancias del centro a los puntos del perímetro).\n",
    "        \\item Textura (desviación estándar de los valores de la escala de grises).\n",
    "        \\item Perímetro.\n",
    "        \\item Área.\n",
    "        \\item Suaviación local en longitudes de radio).\n",
    "        \\item Compacidad (${perímetro}^2 / área - 1.0$).\n",
    "        \\item Concavidad (severidad de las porciones cóncavas del contorno).\n",
    "        \\item Puntos cóncavos (número de porciones cóncavas del contorno).\n",
    "        \\item Simetría.\n",
    "        \\item Dimensión fractal (\"aproximación a la línea de costa\" - 1).\n",
    "    \\end{enumerate}\n",
    "\\end{itemize}"
   ]
  },
  {
   "cell_type": "markdown",
   "id": "b4360c44",
   "metadata": {},
   "source": [
    "El análisis estadístico y estudio del comportamiento de los atributos fue realizado en un trabajo anterior por lo que, por simplicidad, es obviado en el presente escrito y, en vez, se realiza directamente la extracción de valores atípicos, transformación de la data con la transformada que mejor resultados arrojó y, posteriormente, se estandariza."
   ]
  },
  {
   "cell_type": "markdown",
   "id": "6e8dfd5c",
   "metadata": {},
   "source": [
    "\\vspace{1cm} \n",
    "\\subsection{\\scshape\\large Procesamiento de la data}"
   ]
  },
  {
   "cell_type": "code",
   "execution_count": 339,
   "id": "b800891f",
   "metadata": {},
   "outputs": [],
   "source": [
    "# Se elimina la columna ID\n",
    "data3 = np.delete(data3, 0, axis = 1)\n",
    "\n",
    "# Se transforma la columna de clasificación en binario\n",
    "data3[ data3[ : , 0 ] == 'M'  , 0 ] = 1\n",
    "data3[ data3[ : , 0 ] == 'B'  , 0 ] = 0  \n",
    "\n",
    "# Se convierte la data de String a Float\n",
    "data3 = data3.astype(float)\n",
    "\n",
    "# Se instacia la data en un objeto para darle atributos adicionales al arreglo\n",
    "data3_ = StatsArr( data3 )"
   ]
  },
  {
   "cell_type": "code",
   "execution_count": 340,
   "id": "ed9ff76a",
   "metadata": {},
   "outputs": [],
   "source": [
    "data3b = AtipValueRemv( data3_ )\n",
    "data3b_ = StatsArr( data3b )"
   ]
  },
  {
   "cell_type": "code",
   "execution_count": 341,
   "id": "e56ddda9",
   "metadata": {},
   "outputs": [],
   "source": [
    "data3b_.TransfType = 'Yoe-Johnson Transform'\n",
    "data3b_[:,1:], data2b_.Lambdas_ = yoejohnson_transform( data3b_[:,1:] )"
   ]
  },
  {
   "cell_type": "code",
   "execution_count": 342,
   "id": "8ba11953",
   "metadata": {},
   "outputs": [],
   "source": [
    "# Normalización mediante Z-Score para todos los atributos.\n",
    "data3n = np.copy( data3b_ )\n",
    "data3n_ = StatsArr( data3n )\n",
    "data3n_[:,1:] = stats.zscore( data3n_[:,1:], axis = 0 )"
   ]
  },
  {
   "cell_type": "markdown",
   "id": "8affb41e",
   "metadata": {},
   "source": [
    "\\vspace{1cm} \\subsection{\\scshape\\large Desarrollo del modelo}"
   ]
  },
  {
   "cell_type": "markdown",
   "id": "16da0bad",
   "metadata": {},
   "source": [
    "Para este caso, se consideran dos posibles grupos de datos de entrada:\n",
    "\\begin{itemize}\n",
    "    \\item[$\\bullet$] Data 1: data estandarizada sin cambios.\n",
    "    \\item[$\\bullet$] Data 2: data estandarizada de entrada junto con los correspondientes atributos al cuadrado.\n",
    "\\end{itemize}"
   ]
  },
  {
   "cell_type": "markdown",
   "id": "bb7534da",
   "metadata": {},
   "source": [
    "\\vspace{1cm} \n",
    "\\subsubsection{\\scshape\\large Modelo de Regresión Logística}"
   ]
  },
  {
   "cell_type": "code",
   "execution_count": 440,
   "id": "00ea88c9",
   "metadata": {},
   "outputs": [],
   "source": [
    "data3naux = np.column_stack( (data3n_, data3n_[:,1:]*data3n_[:,1:]) )"
   ]
  },
  {
   "cell_type": "code",
   "execution_count": 349,
   "id": "3602f5c1",
   "metadata": {},
   "outputs": [
    {
     "name": "stdout",
     "output_type": "stream",
     "text": [
      "Data Breast Cancer: RSS de cada iteración con los datos de entrenamiento:\n",
      "2.0\n",
      "\n",
      "\n",
      "Data Breast Cancer: RSS de cada iteración con los datos de prueba:\n",
      "4.0\n",
      "\n",
      "\n",
      "Data Breast Cancer: R^2 de cada iteración con los de entrenamiento:\n",
      "0.9899497487437185\n",
      "\n",
      "\n",
      "Data Breast Cancer: R^2 de cada iteración con los datos de prueba:\n",
      "0.9798994974874372\n",
      "\n",
      "\n"
     ]
    }
   ],
   "source": [
    "# instanciación del modelo\n",
    "P3D1model1 = ModelsInfo()\n",
    "\n",
    "# Modelo de regresión lineal\n",
    "P3D1model1.RSSent_ , P3D1model1.RSSeva_ , P3D1model1.R2ent_ , P3D1model1.R2eva_ , P3D1model1.model_ = LogisticRegrDSplit( data3n_, 0.5, varShuffle = True, randomState = 100 , stratifyData = data3n_[:,0])\n",
    "\n",
    "# Se presentan los resultados del modelo\n",
    "modelErrorPrint( 'Data Breast Cancer', RSSent = P3D1model1.RSSent_ , RSSeva = P3D1model1.RSSeva_ , R2ent = P3D1model1.R2ent_ , R2eva = P3D1model1.R2eva_ )\n"
   ]
  },
  {
   "cell_type": "code",
   "execution_count": 442,
   "id": "3ab67e73",
   "metadata": {},
   "outputs": [
    {
     "name": "stdout",
     "output_type": "stream",
     "text": [
      "Data Breast Cancer: RSS de cada iteración con los datos de entrenamiento:\n",
      "0.0\n",
      "\n",
      "\n",
      "Data Breast Cancer: RSS de cada iteración con los datos de prueba:\n",
      "9.0\n",
      "\n",
      "\n",
      "Data Breast Cancer: R^2 de cada iteración con los de entrenamiento:\n",
      "1.0\n",
      "\n",
      "\n",
      "Data Breast Cancer: R^2 de cada iteración con los datos de prueba:\n",
      "0.9547738693467337\n",
      "\n",
      "\n"
     ]
    }
   ],
   "source": [
    "# instanciación del modelo\n",
    "P3D2model1 = ModelsInfo()\n",
    "\n",
    "# Modelo de regresión lineal\n",
    "P3D2model1.RSSent_ , P3D2model1.RSSeva_ , P3D2model1.R2ent_ , P3D2model1.R2eva_ , P3D2model1.model_ = LogisticRegrDSplit( data3naux, 0.5, varShuffle = True, randomState = 100 , stratifyData = data3naux[:,0])\n",
    "\n",
    "# Se presentan los resultados del modelo\n",
    "modelErrorPrint( 'Data Breast Cancer', RSSent = P3D2model1.RSSent_ , RSSeva = P3D2model1.RSSeva_ , R2ent = P3D2model1.R2ent_ , R2eva = P3D2model1.R2eva_ )\n"
   ]
  },
  {
   "cell_type": "markdown",
   "id": "a686daf5",
   "metadata": {},
   "source": [
    "\\vspace{1cm} \n",
    "\\subsubsection{\\scshape\\large Modelo de Redes Neuronales}"
   ]
  },
  {
   "cell_type": "code",
   "execution_count": 452,
   "id": "dca8919a",
   "metadata": {},
   "outputs": [
    {
     "name": "stdout",
     "output_type": "stream",
     "text": [
      "Data Breast Cancer: RSS de cada iteración con los datos de entrenamiento:\n",
      "0.0\n",
      "\n",
      "\n",
      "Data Breast Cancer: RSS de cada iteración con los datos de prueba:\n",
      "13.0\n",
      "\n",
      "\n",
      "Data Breast Cancer: R^2 de cada iteración con los de entrenamiento:\n",
      "1.0\n",
      "\n",
      "\n",
      "Data Breast Cancer: R^2 de cada iteración con los datos de prueba:\n",
      "0.9346733668341709\n",
      "\n",
      "\n"
     ]
    }
   ],
   "source": [
    "# Se instancia el objeto que contendrá los datos del modelo\n",
    "# Problema 1 Data 1 Modelo 1\n",
    "P3D1model2 = ModelsInfo()\n",
    "\n",
    "# Se ejecuta el modelo\n",
    "P3D1model2.RSSent_ , P3D1model2.RSSeva_ , P3D1model2.R2ent_ , P3D1model2.R2eva_ , P3D1model2.model_ = MLPnnDSplit( data3n_, 0.5, varShuffle = True, randomState = 100, HLayer = (80, 30), maxIter = 1000, actvFn = 'relu' )\n",
    "\n",
    "# Se presentan los resultados del modelo\n",
    "modelErrorPrint( 'Data Breast Cancer', RSSent = P3D1model2.RSSent_ , RSSeva = P3D1model2.RSSeva_ , R2ent = P3D1model2.R2ent_ , R2eva = P3D1model2.R2eva_ )"
   ]
  },
  {
   "cell_type": "code",
   "execution_count": 355,
   "id": "daba4739",
   "metadata": {},
   "outputs": [
    {
     "name": "stdout",
     "output_type": "stream",
     "text": [
      "Data completa Abalone: RSS de cada iteración con los datos de prueba:\n",
      "13.0\n",
      "\n",
      "\n",
      "Data completa Abalone: R^2 de cada iteración con los datos de prueba:\n",
      "0.9673366834170855\n",
      "\n",
      "\n"
     ]
    }
   ],
   "source": [
    "# Evaluación del modelo para toda la data\n",
    "modelEvalPredict( P3D1model2, data3n_, 'Data completa Breast Cancer' )"
   ]
  },
  {
   "cell_type": "code",
   "execution_count": 451,
   "id": "058df3ed",
   "metadata": {
    "scrolled": true
   },
   "outputs": [
    {
     "name": "stdout",
     "output_type": "stream",
     "text": [
      "Data Breast Cancer: RSS de cada iteración con los datos de entrenamiento:\n",
      "0.0\n",
      "\n",
      "\n",
      "Data Breast Cancer: RSS de cada iteración con los datos de prueba:\n",
      "16.0\n",
      "\n",
      "\n",
      "Data Breast Cancer: R^2 de cada iteración con los de entrenamiento:\n",
      "1.0\n",
      "\n",
      "\n",
      "Data Breast Cancer: R^2 de cada iteración con los datos de prueba:\n",
      "0.9195979899497487\n",
      "\n",
      "\n"
     ]
    }
   ],
   "source": [
    "# Se instancia el objeto que contendrá los datos del modelo\n",
    "# Problema 1 Data 1 Modelo 1\n",
    "P3D1model3 = ModelsInfo()\n",
    "\n",
    "# Se ejecuta el modelo\n",
    "P3D1model3.RSSent_ , P3D1model3.RSSeva_ , P3D1model3.R2ent_ , P3D1model3.R2eva_ , P3D1model3.model_ = MLPnnDSplit( data3n_, 0.5, varShuffle = True, randomState = 100, HLayer = (70, 40), maxIter = 2000, actvFn = 'tanh' )\n",
    "\n",
    "# Se presentan los resultados del modelo\n",
    "modelErrorPrint( 'Data Breast Cancer', RSSent = P3D1model3.RSSent_ , RSSeva = P3D1model3.RSSeva_ , R2ent = P3D1model3.R2ent_ , R2eva = P3D1model3.R2eva_ )\n"
   ]
  },
  {
   "cell_type": "code",
   "execution_count": 450,
   "id": "d022c0c6",
   "metadata": {},
   "outputs": [
    {
     "name": "stdout",
     "output_type": "stream",
     "text": [
      "Data completa Breast Cancer: RSS de cada iteración con los datos de prueba:\n",
      "16.0\n",
      "\n",
      "\n",
      "Data completa Breast Cancer: R^2 de cada iteración con los datos de prueba:\n",
      "0.9597989949748744\n",
      "\n",
      "\n"
     ]
    }
   ],
   "source": [
    "# Evaluación del modelo para toda la data\n",
    "modelEvalPredict( P3D1model3, data3n_, 'Data completa Breast Cancer' )"
   ]
  },
  {
   "cell_type": "code",
   "execution_count": 449,
   "id": "2cee438e",
   "metadata": {},
   "outputs": [
    {
     "name": "stdout",
     "output_type": "stream",
     "text": [
      "Data Breast Cancer: RSS de cada iteración con los datos de entrenamiento:\n",
      "2.0\n",
      "\n",
      "\n",
      "Data Breast Cancer: RSS de cada iteración con los datos de prueba:\n",
      "12.0\n",
      "\n",
      "\n",
      "Data Breast Cancer: R^2 de cada iteración con los de entrenamiento:\n",
      "0.9899497487437185\n",
      "\n",
      "\n",
      "Data Breast Cancer: R^2 de cada iteración con los datos de prueba:\n",
      "0.9396984924623115\n",
      "\n",
      "\n"
     ]
    }
   ],
   "source": [
    "# Se instancia el objeto que contendrá los datos del modelo\n",
    "# Problema 1 Data 1 Modelo 1\n",
    "P3D1model4 = ModelsInfo()\n",
    "\n",
    "# Se ejecuta el modelo\n",
    "P3D1model4.RSSent_ , P3D1model4.RSSeva_ , P3D1model4.R2ent_ , P3D1model4.R2eva_ , P3D1model4.model_ = MLPnnDSplit( data3n_, 0.5, varShuffle = True, randomState = 100, HLayer = (80, 40), maxIter = 1000, actvFn = 'logistic' )\n",
    "\n",
    "# Se presentan los resultados del modelo\n",
    "modelErrorPrint( 'Data Breast Cancer', RSSent = P3D1model4.RSSent_ , RSSeva = P3D1model4.RSSeva_ , R2ent = P3D1model4.R2ent_ , R2eva = P3D1model4.R2eva_ )\n"
   ]
  },
  {
   "cell_type": "code",
   "execution_count": 448,
   "id": "9fc6329c",
   "metadata": {},
   "outputs": [
    {
     "name": "stdout",
     "output_type": "stream",
     "text": [
      "Data completa Breast Cancer: RSS de cada iteración con los datos de prueba:\n",
      "14.0\n",
      "\n",
      "\n",
      "Data completa Breast Cancer: R^2 de cada iteración con los datos de prueba:\n",
      "0.964824120603015\n",
      "\n",
      "\n"
     ]
    }
   ],
   "source": [
    "# Evaluación del modelo para toda la data\n",
    "modelEvalPredict( P3D1model4, data3n_, 'Data completa Breast Cancer' )"
   ]
  },
  {
   "cell_type": "code",
   "execution_count": 447,
   "id": "81cfe111",
   "metadata": {},
   "outputs": [
    {
     "name": "stdout",
     "output_type": "stream",
     "text": [
      "Data Breast Cancer: RSS de cada iteración con los datos de entrenamiento:\n",
      "0.0\n",
      "\n",
      "\n",
      "Data Breast Cancer: RSS de cada iteración con los datos de prueba:\n",
      "14.0\n",
      "\n",
      "\n",
      "Data Breast Cancer: R^2 de cada iteración con los de entrenamiento:\n",
      "1.0\n",
      "\n",
      "\n",
      "Data Breast Cancer: R^2 de cada iteración con los datos de prueba:\n",
      "0.9296482412060302\n",
      "\n",
      "\n"
     ]
    }
   ],
   "source": [
    "# Se instancia el objeto que contendrá los datos del modelo\n",
    "# Problema 1 Data 1 Modelo 1\n",
    "P3D2model2 = ModelsInfo()\n",
    "\n",
    "# Se ejecuta el modelo\n",
    "P3D2model2.RSSent_ , P3D2model2.RSSeva_ , P3D2model2.R2ent_ , P3D2model2.R2eva_ , P3D2model2.model_ = MLPnnDSplit( data3naux, 0.5, varShuffle = True, randomState = 100, HLayer = (80, 30), maxIter = 1000, actvFn = 'relu' )\n",
    "\n",
    "# Se presentan los resultados del modelo\n",
    "modelErrorPrint( 'Data Breast Cancer', RSSent = P3D2model2.RSSent_ , RSSeva = P3D2model2.RSSeva_ , R2ent = P3D2model2.R2ent_ , R2eva = P3D2model2.R2eva_ )"
   ]
  },
  {
   "cell_type": "code",
   "execution_count": 453,
   "id": "70c2f652",
   "metadata": {},
   "outputs": [
    {
     "name": "stdout",
     "output_type": "stream",
     "text": [
      "Data completa Breast Cancer: RSS de cada iteración con los datos de prueba:\n",
      "14.0\n",
      "\n",
      "\n",
      "Data completa Breast Cancer: R^2 de cada iteración con los datos de prueba:\n",
      "0.964824120603015\n",
      "\n",
      "\n"
     ]
    }
   ],
   "source": [
    "# Evaluación del modelo para toda la data\n",
    "modelEvalPredict( P3D2model2, data3naux, 'Data completa Breast Cancer' )"
   ]
  },
  {
   "cell_type": "code",
   "execution_count": 454,
   "id": "721c8686",
   "metadata": {},
   "outputs": [
    {
     "name": "stdout",
     "output_type": "stream",
     "text": [
      "Data Breast Cancer: RSS de cada iteración con los datos de entrenamiento:\n",
      "0.0\n",
      "\n",
      "\n",
      "Data Breast Cancer: RSS de cada iteración con los datos de prueba:\n",
      "17.0\n",
      "\n",
      "\n",
      "Data Breast Cancer: R^2 de cada iteración con los de entrenamiento:\n",
      "1.0\n",
      "\n",
      "\n",
      "Data Breast Cancer: R^2 de cada iteración con los datos de prueba:\n",
      "0.914572864321608\n",
      "\n",
      "\n"
     ]
    }
   ],
   "source": [
    "# Se instancia el objeto que contendrá los datos del modelo\n",
    "# Problema 1 Data 1 Modelo 1\n",
    "P3D2model3 = ModelsInfo()\n",
    "\n",
    "# Se ejecuta el modelo\n",
    "P3D2model3.RSSent_ , P3D2model3.RSSeva_ , P3D2model3.R2ent_ , P3D2model3.R2eva_ , P3D2model3.model_ = MLPnnDSplit( data3naux, 0.5, varShuffle = True, randomState = 100, HLayer = (70, 40), maxIter = 2000, actvFn = 'tanh' )\n",
    "\n",
    "# Se presentan los resultados del modelo\n",
    "modelErrorPrint( 'Data Breast Cancer', RSSent = P3D2model3.RSSent_ , RSSeva = P3D2model3.RSSeva_ , R2ent = P3D2model3.R2ent_ , R2eva = P3D2model3.R2eva_ )\n"
   ]
  },
  {
   "cell_type": "code",
   "execution_count": 455,
   "id": "d1dcd66c",
   "metadata": {},
   "outputs": [
    {
     "name": "stdout",
     "output_type": "stream",
     "text": [
      "Data completa Breast Cancer: RSS de cada iteración con los datos de prueba:\n",
      "17.0\n",
      "\n",
      "\n",
      "Data completa Breast Cancer: R^2 de cada iteración con los datos de prueba:\n",
      "0.957286432160804\n",
      "\n",
      "\n"
     ]
    }
   ],
   "source": [
    "# Evaluación del modelo para toda la data\n",
    "modelEvalPredict( P3D2model3, data3naux, 'Data completa Breast Cancer' )"
   ]
  },
  {
   "cell_type": "code",
   "execution_count": 464,
   "id": "33aab280",
   "metadata": {},
   "outputs": [
    {
     "name": "stdout",
     "output_type": "stream",
     "text": [
      "Data Breast Cancer: RSS de cada iteración con los datos de entrenamiento:\n",
      "0.0\n",
      "\n",
      "\n",
      "Data Breast Cancer: RSS de cada iteración con los datos de prueba:\n",
      "18.0\n",
      "\n",
      "\n",
      "Data Breast Cancer: R^2 de cada iteración con los de entrenamiento:\n",
      "1.0\n",
      "\n",
      "\n",
      "Data Breast Cancer: R^2 de cada iteración con los datos de prueba:\n",
      "0.9095477386934674\n",
      "\n",
      "\n"
     ]
    }
   ],
   "source": [
    "# Se instancia el objeto que contendrá los datos del modelo\n",
    "# Problema 1 Data 1 Modelo 1\n",
    "P3D2model4 = ModelsInfo()\n",
    "\n",
    "# Se ejecuta el modelo\n",
    "P3D2model4.RSSent_ , P3D2model4.RSSeva_ , P3D2model4.R2ent_ , P3D2model4.R2eva_ , P3D2model4.model_ = MLPnnDSplit( data3naux, 0.5, varShuffle = True, randomState = 100, HLayer = (80, 40), maxIter = 1000, actvFn = 'logistic' )\n",
    "\n",
    "# Se presentan los resultados del modelo\n",
    "modelErrorPrint( 'Data Breast Cancer', RSSent = P3D2model4.RSSent_ , RSSeva = P3D2model4.RSSeva_ , R2ent = P3D2model4.R2ent_ , R2eva = P3D2model4.R2eva_ )\n"
   ]
  },
  {
   "cell_type": "code",
   "execution_count": 457,
   "id": "14bbd0c2",
   "metadata": {},
   "outputs": [
    {
     "name": "stdout",
     "output_type": "stream",
     "text": [
      "Data completa Breast Cancer: RSS de cada iteración con los datos de prueba:\n",
      "18.0\n",
      "\n",
      "\n",
      "Data completa Breast Cancer: R^2 de cada iteración con los datos de prueba:\n",
      "0.9547738693467337\n",
      "\n",
      "\n"
     ]
    }
   ],
   "source": [
    "# Evaluación del modelo para toda la data\n",
    "modelEvalPredict( P3D2model4, data3naux, 'Data completa Breast Cancer' )"
   ]
  },
  {
   "cell_type": "markdown",
   "id": "75d40db7",
   "metadata": {},
   "source": [
    "De los resultados anteriores, a diferencia del primer problema (data Iris de Flores) y el segundo (Data Abalone), en este tercer problema, la implementación que incluye como inputs los atributos y los atributos al cuadrado (segunda data de esta experiencia) poseen desempeños peores que los modelos en los que solo se incluye los atributos como entrada (primera data de esta experiencia), mostrando que más inputs no necesariamente es mejor.\n",
    "\n",
    "Por otro lado, no se consiguió una configuración del MLP que pudiera arrojar resultados similares o mejores que la regresión logística. De hecho, el mejor modelo de red neuronal, modelo con 80 neuronas en la primera capa oculta y 30 en la segunda, ambas con función de activación 'Relu', apenas logra tener 13 muestras clasificadas erróneamente, un poco más del doble respecto a la regresión logística con solo los atributos de entrada, que solo clasifica 6 muestras mal.\n",
    "\n",
    "Para la data de cáncer de mama, no fue posible mejorar el desempeño mediante una red neuronal, lo que refleja la importancia de los estudios de regresión logística en estudios de data."
   ]
  },
  {
   "cell_type": "markdown",
   "id": "bf3000b6",
   "metadata": {},
   "source": [
    "\\newpage"
   ]
  },
  {
   "cell_type": "markdown",
   "id": "43284023",
   "metadata": {},
   "source": [
    "\\vspace{1cm} \\section{\\bfseries\\scshape\\Large Conclusiones}"
   ]
  },
  {
   "cell_type": "markdown",
   "id": "c963384b",
   "metadata": {},
   "source": [
    "De la experiencia antes desarrollada se apreció el potencial de las redes neuronales multicapa, incluyendo el perceptrón, el cual se considera la red neuronal más sencilla.\n",
    "\n",
    "Las redes neuronales tienen la capacidad de adaptarse al problema, a modo de encontrar patrones y tendencia en los datos para dar respuestas a las interrogantes presentes en la data que se desea estudiar. Adicionalmente son capaces de resolver problemas atacados inicialmente con modelos de regresión lineal o logística; e incluso aspirando a tener mejores resultados que los modelos mencionados anteriormente. De las pruebas hechas en los problemas 2 y 3 se concluyó que no necesariamente una mayor cantidad de entradas mejorará el desempeño del modelo (ni de redes neuronales ni los de regresión). Lo importante es usar las entradas más apropiadas, que aporten la mayor cantidad de información útil al modelo sin introducir tanta complejidad.\n",
    "\n",
    "Por otra parte, también se observó lo costoso de los modelos de redes neuronales, los cuales pueden tardar mucho más tiempo que modelos de regresión para arrojar resultados que, incluso, no necesariamente son lo suficientemente buenos (o, ni siquiera aceptables), por lo que se debe tener en cuenta el costo computacional de este tipo de metodologías al implementarlo como modelo de estudio de una data en concreto.\n",
    "\n",
    "En conclusión, el modelo de redes neuronales es una herramienta muy poderosa que puede ofrecer muchos beneficios, pero debe ser usada con cuidado para obtener soluciones satisfactorias en tiempos aceptables, sin elevar demasiado los requisitos computacionales del mismo."
   ]
  },
  {
   "cell_type": "markdown",
   "id": "88b31ad1",
   "metadata": {},
   "source": []
  }
 ],
 "metadata": {
  "author": "Me",
  "authors": [
   {
    "name": "William Chacón"
   }
  ],
  "kernelspec": {
   "display_name": "Python 3",
   "language": "python",
   "name": "python3"
  },
  "language_info": {
   "codemirror_mode": {
    "name": "ipython",
    "version": 3
   },
   "file_extension": ".py",
   "mimetype": "text/x-python",
   "name": "python",
   "nbconvert_exporter": "python",
   "pygments_lexer": "ipython3",
   "version": "3.8.8"
  },
  "title": "Taller 3: Redes Neuronales Artificiales"
 },
 "nbformat": 4,
 "nbformat_minor": 5
}
